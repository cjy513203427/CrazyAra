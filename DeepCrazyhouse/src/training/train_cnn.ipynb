{
 "cells": [
  {
   "cell_type": "markdown",
   "metadata": {},
   "source": [
    "## Training script for the CNN \n",
    "\n",
    "Loads in the converted plane representation of the pgn files, defines the network architecture and starts the training process. Checkpoints of the weights are saved if there's an improvement in the validation loss.\n",
    "The training performance metrics (e.g. losses, accuracies...) are exported to tensorboard and can be checked during training.\n",
    "* author: QueensGambit"
   ]
  },
  {
   "cell_type": "code",
   "execution_count": 1,
   "metadata": {
    "scrolled": true
   },
   "outputs": [],
   "source": [
    "%load_ext autoreload\n",
    "%autoreload 2"
   ]
  },
  {
   "cell_type": "code",
   "execution_count": 2,
   "metadata": {
    "scrolled": true
   },
   "outputs": [],
   "source": [
    "%reload_ext autoreload"
   ]
  },
  {
   "cell_type": "code",
   "execution_count": 3,
   "metadata": {
    "scrolled": false
   },
   "outputs": [
    {
     "name": "stdout",
     "output_type": "stream",
     "text": [
      "2023-08-08 13:28:49 matplotlib.pyplot[4728] \u001b[1mDEBUG\u001b[0m Loaded backend module://matplotlib_inline.backend_inline version unknown.\n",
      "2023-08-08 13:28:49 matplotlib.pyplot[4728] \u001b[1mDEBUG\u001b[0m Loaded backend module://matplotlib_inline.backend_inline version unknown.\n"
     ]
    }
   ],
   "source": [
    "from __future__ import print_function\n",
    "import os\n",
    "import sys\n",
    "sys.path.insert(0,'../../../')\n",
    "import glob\n",
    "import chess\n",
    "import shutil\n",
    "import logging\n",
    "import numpy as np\n",
    "from pathlib import Path\n",
    "from copy import deepcopy\n",
    "\n",
    "from DeepCrazyhouse.src.training.train_util import get_metrics, prepare_policy, value_to_wdl_label, prepare_plys_label\n",
    "from DeepCrazyhouse.src.domain.variants.input_representation import board_to_planes, planes_to_board\n",
    "from DeepCrazyhouse.src.domain.variants.output_representation import policy_to_moves, policy_to_best_move, policy_to_move\n",
    "from DeepCrazyhouse.src.preprocessing.dataset_loader import load_pgn_dataset\n",
    "from DeepCrazyhouse.src.runtime.color_logger import enable_color_logging\n",
    "from DeepCrazyhouse.configs.main_config import main_config\n",
    "from DeepCrazyhouse.configs.train_config import TrainConfig, TrainObjects\n",
    "\n",
    "from DeepCrazyhouse.src.training.lr_schedules.lr_schedules import *\n",
    "from DeepCrazyhouse.src.domain.variants.plane_policy_representation import FLAT_PLANE_IDX\n",
    "from DeepCrazyhouse.src.domain.variants.constants import NB_POLICY_MAP_CHANNELS, NB_LABELS, MODE_CHESS, MODE_CRAZYHOUSE\n",
    "enable_color_logging()\n",
    "%matplotlib inline"
   ]
  },
  {
   "cell_type": "code",
   "execution_count": null,
   "metadata": {},
   "outputs": [],
   "source": []
  },
  {
   "cell_type": "code",
   "execution_count": 4,
   "metadata": {},
   "outputs": [],
   "source": [
    "tc = TrainConfig()\n",
    "to = TrainObjects()\n",
    "# Decide between 'pytorch', 'mxnet' and 'gluon' style for training\n",
    "tc.framework: str = 'pytorch'"
   ]
  },
  {
   "cell_type": "markdown",
   "metadata": {},
   "source": [
    "### pytorch imports"
   ]
  },
  {
   "cell_type": "code",
   "execution_count": 5,
   "metadata": {},
   "outputs": [],
   "source": [
    "if tc.framework == 'pytorch':\n",
    "    import torch\n",
    "    from torch.utils.data import TensorDataset, DataLoader\n",
    "    from torchsummary import summary\n",
    "    from fvcore.nn import FlopCountAnalysis\n",
    "\n",
    "    from DeepCrazyhouse.src.training.trainer_agent_pytorch import TrainerAgentPytorch, save_torch_state,\\\n",
    "    load_torch_state, export_to_onnx, get_context, get_data_loader, evaluate_metrics\n",
    "    # architectures\n",
    "    from DeepCrazyhouse.src.domain.neural_net.architectures.pytorch.rise_mobile_v3 import RiseV3, get_rise_v33_model_by_train_config\n",
    "    from DeepCrazyhouse.src.domain.neural_net.architectures.pytorch.vision_transformer import VisionTransformer\n",
    "    from DeepCrazyhouse.src.domain.neural_net.architectures.pytorch.vit_configs import get_b8_config\n",
    "    from DeepCrazyhouse.src.domain.neural_net.architectures.pytorch.le_vit import LeViT\n",
    "    from DeepCrazyhouse.src.domain.neural_net.architectures.pytorch.mobile_vit import MobileViT\n",
    "    from DeepCrazyhouse.src.domain.neural_net.architectures.pytorch.trt_vit import TrtViT\n",
    "    from DeepCrazyhouse.src.domain.neural_net.architectures.pytorch.next_vit_official import NextVit\n",
    "    from DeepCrazyhouse.src.domain.neural_net.architectures.pytorch.a0_resnet import AlphaZeroResnet"
   ]
  },
  {
   "cell_type": "markdown",
   "metadata": {},
   "source": [
    "### mxnet imports"
   ]
  },
  {
   "cell_type": "code",
   "execution_count": 6,
   "metadata": {},
   "outputs": [],
   "source": [
    "if tc.framework == 'mxnet' or tc.framework == 'gluon':\n",
    "    import mxnet as mx\n",
    "    from mxnet import nd\n",
    "    from mxnet import gluon\n",
    "    try:\n",
    "        import mxnet.metric as metric\n",
    "    except ModuleNotFoundError:\n",
    "        import mxnet.gluon.metric as metrics\n",
    "\n",
    "    from DeepCrazyhouse.src.training.trainer_agent_gluon import TrainerAgentGluon, evaluate_metrics, acc_sign, get_data_loader\n",
    "    from DeepCrazyhouse.src.training.trainer_agent_mxnet import TrainerAgentMXNET, get_context\n",
    "    # architectures\n",
    "    from DeepCrazyhouse.src.domain.neural_net.architectures.a0_resnet import AlphaZeroResnet\n",
    "    from DeepCrazyhouse.src.domain.neural_net.architectures.mxnet_alpha_zero import alpha_zero_symbol\n",
    "    from DeepCrazyhouse.src.domain.neural_net.architectures.rise_mobile_v2 import rise_mobile_v2_symbol\n",
    "    from DeepCrazyhouse.src.domain.neural_net.architectures.rise_mobile_v3 import rise_mobile_v3_symbol\n",
    "    from DeepCrazyhouse.src.domain.neural_net.architectures.preact_resnet_se import preact_resnet_se\n",
    "    from DeepCrazyhouse.src.domain.neural_net.onnx.convert_to_onnx import convert_mxnet_model_to_onnx"
   ]
  },
  {
   "cell_type": "markdown",
   "metadata": {},
   "source": [
    "## Settings"
   ]
  },
  {
   "cell_type": "code",
   "execution_count": 7,
   "metadata": {
    "scrolled": true
   },
   "outputs": [],
   "source": [
    "# set the context on CPU, switch to GPU if there is one available (strongly recommended for training)\n",
    "tc.context = \"gpu\"\n",
    "tc.device_id = 0\n",
    "\n",
    "# set a specific seed value for reproducibility\n",
    "tc.seed = 7 # 42\n",
    "\n",
    "tc.export_weights = True\n",
    "tc.log_metrics_to_tensorboard = True\n",
    "tc.export_grad_histograms = False\n",
    "\n",
    "# directory to write and read weights, logs, onnx and other export files\n",
    "tc.export_dir = \"./\"\n",
    "\n",
    "tc.div_factor = 4  # div factor is a constant which can be used to reduce the batch size and learning rate respectively\n",
    "# use a value greater 1 if you encounter memory allocation errors\n",
    "\n",
    "# batch_steps = 1000 means for example that every 1000 batches the validation set gets processed\n",
    "tc.batch_steps = 1000 * tc.div_factor # this defines how often a new checkpoint will be saved and the metrics evaluated\n",
    "# k_steps_initial defines how many steps have been trained before\n",
    "# (k_steps_initial != 0 if you continue training from a checkpoint)\n",
    "tc.k_steps_initial = 0\n",
    "# these are the weights to continue training with\n",
    "tc.symbol_file = None # 'model-0.81901-0.713-symbol.json'\n",
    "tc.params_file = None #'model-0.81901-0.713-0498.params'\n",
    "\n",
    "tc.batch_size = int(1024 / tc.div_factor) # 1024 # the batch_size needed to be reduced to 1024 in order to fit in the GPU 1080Ti\n",
    "#4096 was originally used in the paper -> works slower for current GPU\n",
    "# 2048 was used in the paper Mastering the game of Go without human knowledge and fits in GPU memory\n",
    "#typically if you half the batch_size, you should double the lr\n",
    "\n",
    "# optimization parameters\n",
    "tc.optimizer_name = \"nag\"  # \"adam\" \"adamw\" # \n",
    "if tc.framework == 'pytorch':\n",
    "    # strangely pytorch should use a different lr than mxnet\n",
    "    tc.max_lr = 0.07 / tc.div_factor\n",
    "else:\n",
    "    tc.max_lr = 0.35 / tc.div_factor #0.01 # default lr for adam\n",
    "tc.min_lr = 0.00001\n",
    "\n",
    "if \"adam\" in tc.optimizer_name:\n",
    "    tc.max_lr = 0.001001 #1e-3\n",
    "    tc.min_lr = 0.001\n",
    "    \n",
    "tc.max_momentum = 0.95\n",
    "tc.min_momentum = 0.8\n",
    "# loads a previous checkpoint if the loss increased significanly\n",
    "tc.use_spike_recovery = True\n",
    "# stop training as soon as max_spikes has been reached\n",
    "tc.max_spikes = 20\n",
    "# define spike threshold when the detection will be triggered\n",
    "tc.spike_thresh = 1.5\n",
    "# weight decay\n",
    "tc.wd = 1e-4\n",
    "tc.dropout_rate = 0 #0.15\n",
    "\n",
    "# enables training with a wdl head as intermediate target (mainly useful for environments with 3 outcomes)\n",
    "tc.use_wdl = True\n",
    "# enables training with ply to end head\n",
    "tc.use_plys_to_end = True\n",
    "# adds a small mlp to infer the value loss from wdl and plys_to_end_output\n",
    "tc.use_mlp_wdl_ply = False\n",
    "\n",
    "# weight the value loss a lot lower than the policy loss in order to prevent overfitting\n",
    "tc.val_loss_factor = 0.01\n",
    "tc.policy_loss_factor = 0.988 if tc.use_plys_to_end else 0.99\n",
    "tc.plys_to_end_loss_factor = 0.002\n",
    "tc.wdl_loss_factor = 0.01\n",
    "tc.discount = 1.0\n",
    "\n",
    "tc.normalize = True # define whether to normalize input data to [0,1]\n",
    "tc.nb_training_epochs = 7 # define how many epochs the network will be trained\n",
    "tc.select_policy_from_plane = True # Boolean if potential legal moves will be selected from final policy output\n",
    "        \n",
    "# additional custom validation set files which will be logged to tensorboard\n",
    "to.variant_metrics = None # [\"chess960\", \"koth\", \"three_check\"]\n",
    "# if use_extra_variant_input is true the current active variant is passed two each residual block and\n",
    "\n",
    "# ratio for mixing the value return with the corresponding q-value\n",
    "# for a ratio of 0 no q-value information will be used\n",
    "tc.q_value_ratio = 0\n",
    "\n",
    "# define if policy training target is one-hot encoded a distribution (e.g. mcts samples, knowledge distillation)\n",
    "tc.sparse_policy_label = True\n",
    "# define if the policy data is also defined in \"select_policy_from_plane\" representation\n",
    "tc.is_policy_from_plane_data = False\n",
    "tc.name_initials = \"JC\""
   ]
  },
  {
   "cell_type": "code",
   "execution_count": 8,
   "metadata": {
    "scrolled": true
   },
   "outputs": [],
   "source": [
    "mode = main_config[\"mode\"]\n",
    "ctx = get_context(tc.context, tc.device_id)\n",
    "# concatenated at the end of the final feature representation\n",
    "use_extra_variant_input = False\n",
    "cur_it = tc.k_steps_initial * tc.batch_steps # iteration counter used for the momentum and learning rate schedule"
   ]
  },
  {
   "cell_type": "code",
   "execution_count": 9,
   "metadata": {
    "scrolled": true
   },
   "outputs": [],
   "source": [
    "if tc.framework == 'mxnet' or tc.framework == 'gluon':\n",
    "    # Fixing the random seed\n",
    "    mx.random.seed(tc.seed)\n",
    "    mx.__version__"
   ]
  },
  {
   "cell_type": "markdown",
   "metadata": {},
   "source": [
    "### Create logs and weights directory"
   ]
  },
  {
   "cell_type": "code",
   "execution_count": 10,
   "metadata": {
    "scrolled": true
   },
   "outputs": [],
   "source": [
    "if not os.path.exists(tc.export_dir + \"logs\"):\n",
    "    os.mkdir(tc.export_dir + \"logs\")\n",
    "if not os.path.exists(tc.export_dir + \"weights\"):\n",
    "    os.mkdir(tc.export_dir + \"weights\")"
   ]
  },
  {
   "cell_type": "markdown",
   "metadata": {},
   "source": [
    "### Show the config files"
   ]
  },
  {
   "cell_type": "code",
   "execution_count": 11,
   "metadata": {
    "scrolled": true
   },
   "outputs": [
    {
     "name": "stdout",
     "output_type": "stream",
     "text": [
      "{'pgn_train_dir': '/home/demo_user/datasets/lichess/Crazyhouse/pgn/train/', 'pgn_val_dir': '/home/demo_user/datasets/lichess/Crazyhouse/pgn/val/', 'pgn_test_dir': '/home/demo_user/datasets/lichess/Crazyhouse/pgn/test/', 'pgn_mate_in_one_dir': '/home/demo_user/datasets/lichess/Crazyhouse/pgn/mate_in_one/', 'planes_train_dir': 'D:/Masterarbeit/datasets/datasets/24k_dataset/default/planes/train/', 'planes_val_dir': 'D:/Masterarbeit/datasets/datasets/24k_dataset/default/planes/val/', 'planes_test_dir': 'D:/Masterarbeit/datasets/datasets/24k_dataset/default/planes/test/', 'planes_mate_in_one_dir': 'D:/Masterarbeit/datasets/datasets/24k_dataset/default/planes/mate_in_one/', 'rec_dir': '/home/demo_user/datasets/lichess/Crazyhouse/rec/', 'model_architecture_dir': '/home/demo_user/models/Crazyhouse/symbol/', 'model_weights_dir': '/home/demo_user/models/Crazyhouse/params/', 'value_output': 'value_out', 'policy_output': 'policy_out', 'auxiliary_output': 'auxiliary_out', 'wdl_output': 'wdl_out', 'plys_to_end_output': 'plys_to_end_out', 'mode': 0, 'version': 1}\n"
     ]
    }
   ],
   "source": [
    "print(main_config)"
   ]
  },
  {
   "cell_type": "code",
   "execution_count": 12,
   "metadata": {
    "scrolled": true
   },
   "outputs": [
    {
     "name": "stdout",
     "output_type": "stream",
     "text": [
      "TrainConfig(div_factor=4, batch_size=256, batch_steps=4000, context='gpu', cpu_count=4, device_id=0, discount=1.0, dropout_rate=0, export_dir='./', export_weights=True, export_grad_histograms=False, framework='pytorch', is_policy_from_plane_data=False, log_metrics_to_tensorboard=True, k_steps_initial=0, symbol_file=None, params_file=None, optimizer_name='nag', max_lr=0.0175, min_lr=1e-05, max_momentum=0.95, min_momentum=0.8, max_spikes=20, name_initials='JC', nb_parts=None, normalize=True, nb_training_epochs=7, policy_loss_factor=0.988, plys_to_end_loss_factor=0.002, q_value_ratio=0, seed=7, select_policy_from_plane=True, spike_thresh=1.5, sparse_policy_label=True, total_it=None, use_mlp_wdl_ply=False, use_plys_to_end=True, use_wdl=True, use_spike_recovery=True, val_loss_factor=0.01, wdl_loss_factor=0.01, wd=0.0001)\n"
     ]
    }
   ],
   "source": [
    "print(tc)"
   ]
  },
  {
   "cell_type": "code",
   "execution_count": 13,
   "metadata": {
    "scrolled": true
   },
   "outputs": [
    {
     "name": "stdout",
     "output_type": "stream",
     "text": [
      "TrainObjects()\n"
     ]
    }
   ],
   "source": [
    "print(to)"
   ]
  },
  {
   "cell_type": "markdown",
   "metadata": {},
   "source": [
    "### Load the dataset-files"
   ]
  },
  {
   "attachments": {},
   "cell_type": "markdown",
   "metadata": {},
   "source": [
    "### Validation Dataset (which is used during training)"
   ]
  },
  {
   "cell_type": "code",
   "execution_count": 14,
   "metadata": {
    "scrolled": true
   },
   "outputs": [
    {
     "name": "stdout",
     "output_type": "stream",
     "text": [
      "2023-08-08 13:28:56 root[4728] \u001b[1mDEBUG\u001b[0m loading: D:/Masterarbeit/datasets/datasets/24k_dataset/default/planes/val\\2021-01-12-14-14-24\\lichess_db_crazyhouse_rated_2018-04_0.zip ...\n",
      "2023-08-08 13:28:56 root[4728] \u001b[1mDEBUG\u001b[0m \n",
      "2023-08-08 13:28:56 root[4728] \u001b[1mINFO\u001b[0m STATISTICS:\n",
      "black_wins [444]\n",
      "draws [2]\n",
      "game_idx_end [1000]\n",
      "game_idx_start [0]\n",
      "number_selected_games [1000]\n",
      "white_wins [554]\n",
      "2023-08-08 13:28:56 root[4728] \u001b[1mINFO\u001b[0m PARAMETERS:\n",
      "batch_size [1000]\n",
      "compression [b'lz4']\n",
      "limit_nb_games [0]\n",
      "max_nb_files [1]\n",
      "min_elo_both [2000]\n",
      "pgn_name [b'lichess_db_crazyhouse_rated_2018-04.pgn']\n",
      "termination_conditions [b'Normal']\n"
     ]
    }
   ],
   "source": [
    "s_idcs_val, x_val, yv_val, yp_val, plys_to_end, pgn_datasets_val = load_pgn_dataset(dataset_type='val', part_id=0,\n",
    "                                                                           verbose=True, normalize=tc.normalize)\n",
    "if tc.discount != 1:\n",
    "    yv_val *= tc.discount**plys_to_end\n",
    "    \n",
    "if tc.framework == 'mxnet':\n",
    "    if tc.select_policy_from_plane:\n",
    "        if tc.use_wdl and tc.use_wdl:\n",
    "            val_iter = mx.io.NDArrayIter({'data': x_val},\n",
    "                                         {'value_label': yv_val,\n",
    "                                          'policy_label': np.array(FLAT_PLANE_IDX)[yp_val.argmax(axis=1)],\n",
    "                                          'wdl_label': value_to_wdl_label(yv_val),\n",
    "                                          'plys_to_end_label': prepare_plys_label(plys_to_end)},\n",
    "                                          tc.batch_size)\n",
    "        else:\n",
    "            val_iter = mx.io.NDArrayIter({'data': x_val},\n",
    "                                         {'value_label': yv_val,\n",
    "                                          'policy_label': np.array(FLAT_PLANE_IDX)[yp_val.argmax(axis=1)]},\n",
    "                                         tc.batch_size)\n",
    "    else:\n",
    "        val_iter = mx.io.NDArrayIter({'data': x_val}, {'value_label': yv_val, 'policy_label': yp_val.argmax(axis=1)}, tc.batch_size)\n",
    "elif tc.framework == 'gluon' or tc.framework == 'pytorch':\n",
    "    val_data = get_data_loader(x_val, yv_val, yp_val, plys_to_end, tc, shuffle=False)"
   ]
  },
  {
   "cell_type": "code",
   "execution_count": 15,
   "metadata": {
    "scrolled": true
   },
   "outputs": [],
   "source": [
    "tc.nb_parts = len(glob.glob(main_config['planes_train_dir'] + '**/*'))"
   ]
  },
  {
   "cell_type": "code",
   "execution_count": 16,
   "metadata": {
    "scrolled": true
   },
   "outputs": [
    {
     "data": {
      "text/plain": [
       "37758"
      ]
     },
     "execution_count": 16,
     "metadata": {},
     "output_type": "execute_result"
    }
   ],
   "source": [
    "nb_it_per_epoch = (len(x_val) * tc.nb_parts) // tc.batch_size # calculate how many iterations per epoch exist\n",
    "# one iteration is defined by passing 1 batch and doing backprop\n",
    "tc.total_it = int(nb_it_per_epoch * tc.nb_training_epochs)\n",
    "tc.total_it"
   ]
  },
  {
   "cell_type": "markdown",
   "metadata": {},
   "source": [
    "### Define a Learning Rate schedule"
   ]
  },
  {
   "cell_type": "code",
   "execution_count": 17,
   "metadata": {
    "scrolled": true
   },
   "outputs": [
    {
     "data": {
      "image/png": "[encoded data removed]",
      "text/plain": [
       "<Figure size 640x480 with 1 Axes>"
      ]
     },
     "metadata": {},
     "output_type": "display_data"
    }
   ],
   "source": [
    "if \"adam\" in tc.optimizer_name:\n",
    "    to.lr_schedule = ConstantSchedule(tc.min_lr)\n",
    "else:\n",
    "    to.lr_schedule = OneCycleSchedule(start_lr=tc.max_lr/8, max_lr=tc.max_lr, cycle_length=tc.total_it*.3, cooldown_length=tc.total_it*.6, finish_lr=tc.min_lr)\n",
    "to.lr_schedule = LinearWarmUp(to.lr_schedule, start_lr=tc.min_lr, length=tc.total_it/30)\n",
    "\n",
    "logging.getLogger().setLevel(logging.WARNING)\n",
    "plot_schedule(to.lr_schedule, iterations=tc.total_it)\n",
    "logging.getLogger().setLevel(logging.DEBUG)"
   ]
  },
  {
   "cell_type": "markdown",
   "metadata": {},
   "source": [
    "### Momentum schedule"
   ]
  },
  {
   "cell_type": "code",
   "execution_count": 18,
   "metadata": {
    "scrolled": true
   },
   "outputs": [
    {
     "data": {
      "image/png": "[encoded data removed]",
      "text/plain": [
       "<Figure size 640x480 with 1 Axes>"
      ]
     },
     "metadata": {},
     "output_type": "display_data"
    }
   ],
   "source": [
    "to.momentum_schedule = MomentumSchedule(to.lr_schedule, tc.min_lr, tc.max_lr, tc.min_momentum, tc.max_momentum)\n",
    "plot_schedule(to.momentum_schedule, iterations=tc.total_it, ylabel='Momentum')"
   ]
  },
  {
   "cell_type": "markdown",
   "metadata": {},
   "source": [
    "### Create the model"
   ]
  },
  {
   "cell_type": "code",
   "execution_count": 19,
   "metadata": {
    "scrolled": true
   },
   "outputs": [
    {
     "data": {
      "text/plain": [
       "(34, 8, 8)"
      ]
     },
     "execution_count": 19,
     "metadata": {},
     "output_type": "execute_result"
    }
   ],
   "source": [
    "input_shape = x_val[0].shape\n",
    "input_shape"
   ]
  },
  {
   "cell_type": "code",
   "execution_count": 20,
   "metadata": {
    "scrolled": true
   },
   "outputs": [],
   "source": [
    "try:\n",
    "    del net\n",
    "except:\n",
    "    pass"
   ]
  },
  {
   "cell_type": "markdown",
   "metadata": {},
   "source": [
    "### Define the NN model / Load the pretrained model"
   ]
  },
  {
   "cell_type": "markdown",
   "metadata": {},
   "source": [
    "### MXNet model definitions"
   ]
  },
  {
   "cell_type": "code",
   "execution_count": 21,
   "metadata": {
    "scrolled": true
   },
   "outputs": [],
   "source": [
    "symbol = None"
   ]
  },
  {
   "cell_type": "code",
   "execution_count": 22,
   "metadata": {
    "scrolled": true
   },
   "outputs": [],
   "source": [
    "#net = AlphaZeroResnet(n_labels=2272, channels=256, channels_value_head=8, channels_policy_head=81, num_res_blocks=19, value_fc_size=256, bn_mom=0.9, act_type='relu', select_policy_from_plane=select_policy_from_plane)"
   ]
  },
  {
   "cell_type": "code",
   "execution_count": 23,
   "metadata": {
    "scrolled": true
   },
   "outputs": [],
   "source": [
    "#net = alpha_zero_resnet(n_labels=2272, channels=256, channels_value_head=1, channels_policy_head=81, num_res_blocks=19, value_fc_size=256, bn_mom=0.9, act_type='relu')"
   ]
  },
  {
   "cell_type": "code",
   "execution_count": 24,
   "metadata": {
    "scrolled": true
   },
   "outputs": [],
   "source": [
    "#symbol = alpha_zero_symbol(num_filter=256, channels_value_head=4, channels_policy_head=81, workspace=1024, value_fc_size=256, num_res_blocks=19, bn_mom=0.9, act_type='relu',\n",
    "#                            n_labels=2272, grad_scale_value=0.01, grad_scale_policy=0.99, select_policy_from_plane=select_policy_from_plane)"
   ]
  },
  {
   "cell_type": "code",
   "execution_count": 25,
   "metadata": {},
   "outputs": [],
   "source": [
    "#bc_res_blocks = [3] * 13\n",
    "#if tc.symbol_file is None:\n",
    "#    symbol = rise_mobile_v2_symbol(channels=256, channels_operating_init=128, channel_expansion=64, channels_value_head=8,\n",
    "#                      channels_policy_head=NB_POLICY_MAP_CHANNELS, value_fc_size=256, bc_res_blocks=bc_res_blocks, res_blocks=[], act_type='relu',\n",
    "#                      n_labels=NB_LABELS, grad_scale_value=tc.val_loss_factor, grad_scale_policy=tc.policy_loss_factor, select_policy_from_plane=tc.select_policy_from_plane,\n",
    "#                      use_se=True, dropout_rate=tc.dropout_rate, use_extra_variant_input=use_extra_variant_input)\n",
    "#else:\n",
    "#    symbol = mx.sym.load(tc.export_dir + \"weights/\" + tc.symbol_file)"
   ]
  },
  {
   "cell_type": "markdown",
   "metadata": {},
   "source": [
    "kernels = [3] * 15\n",
    "kernels[7] = 5\n",
    "kernels[11] = 5\n",
    "kernels[12] = 5\n",
    "kernels[13] = 5\n",
    "\n",
    "se_types = [None] * len(kernels)\n",
    "se_types[5] = \"eca_se\"\n",
    "se_types[8] = \"eca_se\"\n",
    "se_types[12] = \"eca_se\"\n",
    "se_types[13] = \"eca_se\"\n",
    "se_types[14] = \"eca_se\""
   ]
  },
  {
   "cell_type": "markdown",
   "metadata": {},
   "source": [
    "kernels = [3] * 7\n",
    "\n",
    "se_types = [None] * len(kernels)\n",
    "se_types[5] = \"eca_se\"\n"
   ]
  },
  {
   "cell_type": "markdown",
   "metadata": {
    "scrolled": true
   },
   "source": [
    "symbol = rise_mobile_v3_symbol(channels=256, channels_operating_init=224, channel_expansion=32, act_type='relu',\n",
    "                               channels_value_head=8, value_fc_size=256,\n",
    "                               channels_policy_head=NB_POLICY_MAP_CHANNELS,\n",
    "                               grad_scale_value=tc.val_loss_factor,\n",
    "                               grad_scale_policy=tc.policy_loss_factor,\n",
    "                               grad_scale_wdl=tc.wdl_loss_factor,\n",
    "                               grad_scale_ply=tc.plys_to_end_loss_factor,\n",
    "                               dropout_rate=tc.dropout_rate, select_policy_from_plane=True,\n",
    "                               kernels=kernels, se_types=se_types, use_avg_features=False,\n",
    "                               use_wdl=tc.use_wdl, use_plys_to_end=tc.use_plys_to_end,\n",
    "                               use_mlp_wdl_ply=tc.use_mlp_wdl_ply\n",
    "                               )"
   ]
  },
  {
   "cell_type": "markdown",
   "metadata": {},
   "source": [
    "kernels = [3,3,3,3,3,3,5,5]\n",
    "\n",
    "se_types = [\n",
    "    None, # 1\n",
    "    None, # 2\n",
    "    None,  # 3\n",
    "    \"eca_se\",  # 4\n",
    "    None, # 5\n",
    "    None,  # 6\n",
    "    None, # 7\n",
    "    \"eca_se\", # 8\n",
    "] \n",
    "\n",
    "symbol = preact_resnet_se(channels=288, act_type='relu',\n",
    "                          channels_value_head=8, value_fc_size=256,\n",
    "                          channels_policy_head=NB_POLICY_MAP_CHANNELS,\n",
    "                          grad_scale_value=tc.val_loss_factor, grad_scale_policy=tc.policy_loss_factor, \n",
    "                          dropout_rate=tc.dropout_rate, select_policy_from_plane=True,\n",
    "                          kernels=kernels, se_types=se_types, use_avg_features=True, use_raw_features=True)"
   ]
  },
  {
   "cell_type": "markdown",
   "metadata": {},
   "source": [
    "### Pytorch model definitions"
   ]
  },
  {
   "cell_type": "code",
   "execution_count": 26,
   "metadata": {},
   "outputs": [],
   "source": [
    "model = get_rise_v33_model_by_train_config(input_shape, tc)"
   ]
  },
  {
   "cell_type": "markdown",
   "metadata": {},
   "source": [
    "model = LeViT(\n",
    "    image_size = input_shape[1],\n",
    "    in_channels = input_shape[0],\n",
    "    channels_policy_head = NB_POLICY_MAP_CHANNELS,\n",
    "    stages = 1,             # number of stages\n",
    "    dim = (256,),  # dimensions at each stage\n",
    "    depth = 9,              # transformer of depth 4 at each stage\n",
    "    heads = (4,),      # heads at each stage\n",
    "    mlp_mult = 2,\n",
    "    dropout = 0.1,\n",
    "    select_policy_from_plane=tc.select_policy_from_plane,\n",
    "    use_wdl=tc.use_wdl, use_plys_to_end=tc.use_plys_to_end,\n",
    "    use_mlp_wdl_ply=tc.use_mlp_wdl_ply,    \n",
    ")"
   ]
  },
  {
   "cell_type": "markdown",
   "metadata": {},
   "source": [
    "model = MobileViT(\n",
    "    image_size = (input_shape[1], input_shape[2]),\n",
    "    in_channels = input_shape[0],\n",
    "    dims = [96, 120, 144],\n",
    "    channels = 256,\n",
    "    channels_policy_head = NB_POLICY_MAP_CHANNELS,\n",
    "    select_policy_from_plane=tc.select_policy_from_plane,\n",
    "    use_wdl=tc.use_wdl, use_plys_to_end=tc.use_plys_to_end,\n",
    "    use_mlp_wdl_ply=tc.use_mlp_wdl_ply,\n",
    ")"
   ]
  },
  {
   "cell_type": "markdown",
   "metadata": {},
   "source": [
    "model = TrtViT(\n",
    "    image_size = input_shape[1],\n",
    "    in_channels = input_shape[0],\n",
    "    channels_policy_head = NB_POLICY_MAP_CHANNELS,\n",
    "    channels=256,\n",
    "    select_policy_from_plane=tc.select_policy_from_plane,\n",
    "    use_wdl=tc.use_wdl, use_plys_to_end=tc.use_plys_to_end,\n",
    "    use_mlp_wdl_ply=tc.use_mlp_wdl_ply,  \n",
    "    )"
   ]
  },
  {
   "cell_type": "markdown",
   "metadata": {},
   "source": [
    "kernels = [3] * 12 #15\n",
    "kernels[10] = 5\n",
    "kernels[9] = 5\n",
    "kernels[5] = 5\n",
    "#kernels[13] = 5\n",
    "\n",
    "use_transformers = [False] * len(kernels)\n",
    "use_transformers[11] = True\n",
    "#use_transformers[9] = True\n",
    "#use_transformers[4] = True\n",
    "\n",
    "se_types = [None] * len(kernels)\n",
    "se_types[5] = \"eca_se\"\n",
    "se_types[11] = \"eca_se\"\n",
    "#se_types[12] = \"eca_se\"\n",
    "#se_types[13] = \"eca_se\"\n",
    "#se_types[14] = \"eca_se\"\n",
    "\n",
    "class Args:\n",
    "    pass\n",
    "\n",
    "args = Args()\n",
    "args.input_shape = input_shape\n",
    "args.channels_policy_head = NB_POLICY_MAP_CHANNELS\n",
    "args.n_labels = NB_LABELS\n",
    "args.select_policy_from_plane = tc.select_policy_from_plane\n",
    "args.use_wdl = tc.use_wdl\n",
    "args.use_plys_to_end = tc.use_plys_to_end\n",
    "args.use_mlp_wdl_ply = tc.use_mlp_wdl_ply\n",
    "\n",
    "model = RiseV3(nb_input_channels=args.input_shape[0], board_height=args.input_shape[1], board_width=args.input_shape[2],\n",
    "                channels=256, channels_operating_init=224, channel_expansion=32,\n",
    "                channels_value_head=8, value_fc_size=256,\n",
    "                channels_policy_head=args.channels_policy_head,\n",
    "                dropout_rate=0, select_policy_from_plane=args.select_policy_from_plane,\n",
    "                kernels=kernels, se_types=se_types, use_avg_features=False, n_labels=args.n_labels,\n",
    "                use_wdl=args.use_wdl, use_plys_to_end=args.use_plys_to_end, use_mlp_wdl_ply=args.use_mlp_wdl_ply,\n",
    "                use_transformers=use_transformers, path_dropout=0.07\n",
    "               )"
   ]
  },
  {
   "cell_type": "markdown",
   "metadata": {},
   "source": [
    "model = NextVit(\n",
    "    image_size = input_shape[1],\n",
    "    in_channels = input_shape[0],\n",
    "    channels_policy_head = NB_POLICY_MAP_CHANNELS,\n",
    "    stage3_repeat=1,\n",
    "    channels=256,\n",
    "    select_policy_from_plane=tc.select_policy_from_plane,\n",
    "    use_wdl=tc.use_wdl, use_plys_to_end=tc.use_plys_to_end,\n",
    "    use_mlp_wdl_ply=tc.use_mlp_wdl_ply,\n",
    "    use_transformer_heads=False, #True,\n",
    "    se_type=None, #'eca_se'\n",
    "    use_simple_transformer_blocks=False, #True\n",
    "    ) # -> 19 pool blocks"
   ]
  },
  {
   "cell_type": "markdown",
   "metadata": {},
   "source": [
    "model = AlphaZeroResnet(nb_input_channels=input_shape[0], board_height=input_shape[1], board_width=input_shape[2],\n",
    "                channels=256, act_type='relu', num_res_blocks=19,\n",
    "                channels_value_head=8, value_fc_size=256,\n",
    "                channels_policy_head=NB_POLICY_MAP_CHANNELS,\n",
    "                select_policy_from_plane=tc.select_policy_from_plane,\n",
    "                n_labels=NB_LABELS,\n",
    "                use_wdl=tc.use_wdl, use_plys_to_end=tc.use_plys_to_end, use_mlp_wdl_ply=tc.use_mlp_wdl_ply,\n",
    "               )"
   ]
  },
  {
   "cell_type": "markdown",
   "metadata": {},
   "source": [
    "model = VisionTransformer(get_b8_config(), img_size=8, in_channels=input_shape[0], num_classes=NB_POLICY_MAP_CHANNELS*64,\n",
    "                          use_wdl=tc.use_wdl, use_plys_to_end=tc.use_plys_to_end, use_mlp_wdl_ply=tc.use_mlp_wdl_ply,)"
   ]
  },
  {
   "cell_type": "markdown",
   "metadata": {},
   "source": [
    "### Convert MXNet Symbol to Gluon Network"
   ]
  },
  {
   "cell_type": "code",
   "execution_count": 27,
   "metadata": {
    "scrolled": true
   },
   "outputs": [],
   "source": [
    "if tc.framework == 'gluon' and symbol is not None:\n",
    "    inputs = mx.sym.var('data', dtype='float32')\n",
    "    value_out = symbol.get_internals()[main_config['value_output']+'_output']\n",
    "    policy_out = symbol.get_internals()[main_config['policy_output']+'_output']\n",
    "    sym = mx.symbol.Group([value_out, policy_out])\n",
    "    net = mx.gluon.SymbolBlock(sym, inputs)"
   ]
  },
  {
   "cell_type": "markdown",
   "metadata": {},
   "source": [
    "## Network summary"
   ]
  },
  {
   "cell_type": "code",
   "execution_count": 28,
   "metadata": {
    "scrolled": true
   },
   "outputs": [
    {
     "name": "stdout",
     "output_type": "stream",
     "text": [
      "RiseV3(\n",
      "  (body_spatial): Sequential(\n",
      "    (0): _Stem(\n",
      "      (body): Sequential(\n",
      "        (0): Conv2d(34, 256, kernel_size=(3, 3), stride=(1, 1), padding=(1, 1), bias=False)\n",
      "        (1): BatchNorm2d(256, eps=1e-05, momentum=0.1, affine=True, track_running_stats=True)\n",
      "        (2): ReLU(inplace=True)\n",
      "      )\n",
      "    )\n",
      "    (1): _BottlekneckResidualBlock(\n",
      "      (body): Sequential(\n",
      "        (0): Conv2d(256, 224, kernel_size=(1, 1), stride=(1, 1), bias=False)\n",
      "        (1): BatchNorm2d(224, eps=1e-05, momentum=0.1, affine=True, track_running_stats=True)\n",
      "        (2): ReLU(inplace=True)\n",
      "        (3): Conv2d(224, 224, kernel_size=(3, 3), stride=(1, 1), padding=(1, 1), groups=224, bias=False)\n",
      "        (4): BatchNorm2d(224, eps=1e-05, momentum=0.1, affine=True, track_running_stats=True)\n",
      "        (5): ReLU(inplace=True)\n",
      "        (6): Conv2d(224, 256, kernel_size=(1, 1), stride=(1, 1), bias=False)\n",
      "        (7): BatchNorm2d(256, eps=1e-05, momentum=0.1, affine=True, track_running_stats=True)\n",
      "      )\n",
      "      (path_dropout): DropPath(drop_prob=0.000)\n",
      "    )\n",
      "    (2): _BottlekneckResidualBlock(\n",
      "      (body): Sequential(\n",
      "        (0): Conv2d(256, 256, kernel_size=(1, 1), stride=(1, 1), bias=False)\n",
      "        (1): BatchNorm2d(256, eps=1e-05, momentum=0.1, affine=True, track_running_stats=True)\n",
      "        (2): ReLU(inplace=True)\n",
      "        (3): Conv2d(256, 256, kernel_size=(3, 3), stride=(1, 1), padding=(1, 1), groups=256, bias=False)\n",
      "        (4): BatchNorm2d(256, eps=1e-05, momentum=0.1, affine=True, track_running_stats=True)\n",
      "        (5): ReLU(inplace=True)\n",
      "        (6): Conv2d(256, 256, kernel_size=(1, 1), stride=(1, 1), bias=False)\n",
      "        (7): BatchNorm2d(256, eps=1e-05, momentum=0.1, affine=True, track_running_stats=True)\n",
      "      )\n",
      "      (path_dropout): DropPath(drop_prob=0.000)\n",
      "    )\n",
      "    (3): _BottlekneckResidualBlock(\n",
      "      (body): Sequential(\n",
      "        (0): Conv2d(256, 288, kernel_size=(1, 1), stride=(1, 1), bias=False)\n",
      "        (1): BatchNorm2d(288, eps=1e-05, momentum=0.1, affine=True, track_running_stats=True)\n",
      "        (2): ReLU(inplace=True)\n",
      "        (3): Conv2d(288, 288, kernel_size=(3, 3), stride=(1, 1), padding=(1, 1), groups=288, bias=False)\n",
      "        (4): BatchNorm2d(288, eps=1e-05, momentum=0.1, affine=True, track_running_stats=True)\n",
      "        (5): ReLU(inplace=True)\n",
      "        (6): Conv2d(288, 256, kernel_size=(1, 1), stride=(1, 1), bias=False)\n",
      "        (7): BatchNorm2d(256, eps=1e-05, momentum=0.1, affine=True, track_running_stats=True)\n",
      "      )\n",
      "      (path_dropout): DropPath(drop_prob=0.000)\n",
      "    )\n",
      "    (4): _BottlekneckResidualBlock(\n",
      "      (body): Sequential(\n",
      "        (0): Conv2d(256, 320, kernel_size=(1, 1), stride=(1, 1), bias=False)\n",
      "        (1): BatchNorm2d(320, eps=1e-05, momentum=0.1, affine=True, track_running_stats=True)\n",
      "        (2): ReLU(inplace=True)\n",
      "        (3): Conv2d(320, 320, kernel_size=(3, 3), stride=(1, 1), padding=(1, 1), groups=320, bias=False)\n",
      "        (4): BatchNorm2d(320, eps=1e-05, momentum=0.1, affine=True, track_running_stats=True)\n",
      "        (5): ReLU(inplace=True)\n",
      "        (6): Conv2d(320, 256, kernel_size=(1, 1), stride=(1, 1), bias=False)\n",
      "        (7): BatchNorm2d(256, eps=1e-05, momentum=0.1, affine=True, track_running_stats=True)\n",
      "      )\n",
      "      (path_dropout): DropPath(drop_prob=0.000)\n",
      "    )\n",
      "    (5): _BottlekneckResidualBlock(\n",
      "      (body): Sequential(\n",
      "        (0): Conv2d(256, 352, kernel_size=(1, 1), stride=(1, 1), bias=False)\n",
      "        (1): BatchNorm2d(352, eps=1e-05, momentum=0.1, affine=True, track_running_stats=True)\n",
      "        (2): ReLU(inplace=True)\n",
      "        (3): Conv2d(352, 352, kernel_size=(3, 3), stride=(1, 1), padding=(1, 1), groups=352, bias=False)\n",
      "        (4): BatchNorm2d(352, eps=1e-05, momentum=0.1, affine=True, track_running_stats=True)\n",
      "        (5): ReLU(inplace=True)\n",
      "        (6): Conv2d(352, 256, kernel_size=(1, 1), stride=(1, 1), bias=False)\n",
      "        (7): BatchNorm2d(256, eps=1e-05, momentum=0.1, affine=True, track_running_stats=True)\n",
      "      )\n",
      "      (path_dropout): DropPath(drop_prob=0.000)\n",
      "    )\n",
      "    (6): _BottlekneckResidualBlock(\n",
      "      (se): _EfficientChannelAttentionModule(\n",
      "        (avg_pool): AdaptiveAvgPool2d(output_size=1)\n",
      "        (body): Sequential(\n",
      "          (0): Conv1d(256, 256, kernel_size=(5,), stride=(1,), padding=(2,))\n",
      "          (1): Hardsigmoid()\n",
      "        )\n",
      "      )\n",
      "      (body): Sequential(\n",
      "        (0): Conv2d(256, 384, kernel_size=(1, 1), stride=(1, 1), bias=False)\n",
      "        (1): BatchNorm2d(384, eps=1e-05, momentum=0.1, affine=True, track_running_stats=True)\n",
      "        (2): ReLU(inplace=True)\n",
      "        (3): Conv2d(384, 384, kernel_size=(3, 3), stride=(1, 1), padding=(1, 1), groups=384, bias=False)\n",
      "        (4): BatchNorm2d(384, eps=1e-05, momentum=0.1, affine=True, track_running_stats=True)\n",
      "        (5): ReLU(inplace=True)\n",
      "        (6): Conv2d(384, 256, kernel_size=(1, 1), stride=(1, 1), bias=False)\n",
      "        (7): BatchNorm2d(256, eps=1e-05, momentum=0.1, affine=True, track_running_stats=True)\n",
      "      )\n",
      "      (path_dropout): DropPath(drop_prob=0.000)\n",
      "    )\n",
      "    (7): _BottlekneckResidualBlock(\n",
      "      (body): Sequential(\n",
      "        (0): Conv2d(256, 416, kernel_size=(1, 1), stride=(1, 1), bias=False)\n",
      "        (1): BatchNorm2d(416, eps=1e-05, momentum=0.1, affine=True, track_running_stats=True)\n",
      "        (2): ReLU(inplace=True)\n",
      "        (3): Conv2d(416, 416, kernel_size=(3, 3), stride=(1, 1), padding=(1, 1), groups=416, bias=False)\n",
      "        (4): BatchNorm2d(416, eps=1e-05, momentum=0.1, affine=True, track_running_stats=True)\n",
      "        (5): ReLU(inplace=True)\n",
      "        (6): Conv2d(416, 256, kernel_size=(1, 1), stride=(1, 1), bias=False)\n",
      "        (7): BatchNorm2d(256, eps=1e-05, momentum=0.1, affine=True, track_running_stats=True)\n",
      "      )\n",
      "      (path_dropout): DropPath(drop_prob=0.000)\n",
      "    )\n",
      "    (8): _BottlekneckResidualBlock(\n",
      "      (body): Sequential(\n",
      "        (0): Conv2d(256, 352, kernel_size=(1, 1), stride=(1, 1), bias=False)\n",
      "        (1): BatchNorm2d(352, eps=1e-05, momentum=0.1, affine=True, track_running_stats=True)\n",
      "        (2): ReLU(inplace=True)\n",
      "        (3): Conv2d(352, 352, kernel_size=(5, 5), stride=(1, 1), padding=(2, 2), groups=352, bias=False)\n",
      "        (4): BatchNorm2d(352, eps=1e-05, momentum=0.1, affine=True, track_running_stats=True)\n",
      "        (5): ReLU(inplace=True)\n",
      "        (6): Conv2d(352, 256, kernel_size=(1, 1), stride=(1, 1), bias=False)\n",
      "        (7): BatchNorm2d(256, eps=1e-05, momentum=0.1, affine=True, track_running_stats=True)\n",
      "      )\n",
      "      (path_dropout): DropPath(drop_prob=0.000)\n",
      "    )\n",
      "    (9): _BottlekneckResidualBlock(\n",
      "      (se): _EfficientChannelAttentionModule(\n",
      "        (avg_pool): AdaptiveAvgPool2d(output_size=1)\n",
      "        (body): Sequential(\n",
      "          (0): Conv1d(256, 256, kernel_size=(5,), stride=(1,), padding=(2,))\n",
      "          (1): Hardsigmoid()\n",
      "        )\n",
      "      )\n",
      "      (body): Sequential(\n",
      "        (0): Conv2d(256, 480, kernel_size=(1, 1), stride=(1, 1), bias=False)\n",
      "        (1): BatchNorm2d(480, eps=1e-05, momentum=0.1, affine=True, track_running_stats=True)\n",
      "        (2): ReLU(inplace=True)\n",
      "        (3): Conv2d(480, 480, kernel_size=(3, 3), stride=(1, 1), padding=(1, 1), groups=480, bias=False)\n",
      "        (4): BatchNorm2d(480, eps=1e-05, momentum=0.1, affine=True, track_running_stats=True)\n",
      "        (5): ReLU(inplace=True)\n",
      "        (6): Conv2d(480, 256, kernel_size=(1, 1), stride=(1, 1), bias=False)\n",
      "        (7): BatchNorm2d(256, eps=1e-05, momentum=0.1, affine=True, track_running_stats=True)\n",
      "      )\n",
      "      (path_dropout): DropPath(drop_prob=0.000)\n",
      "    )\n",
      "    (10): _BottlekneckResidualBlock(\n",
      "      (body): Sequential(\n",
      "        (0): Conv2d(256, 512, kernel_size=(1, 1), stride=(1, 1), bias=False)\n",
      "        (1): BatchNorm2d(512, eps=1e-05, momentum=0.1, affine=True, track_running_stats=True)\n",
      "        (2): ReLU(inplace=True)\n",
      "        (3): Conv2d(512, 512, kernel_size=(3, 3), stride=(1, 1), padding=(1, 1), groups=512, bias=False)\n",
      "        (4): BatchNorm2d(512, eps=1e-05, momentum=0.1, affine=True, track_running_stats=True)\n",
      "        (5): ReLU(inplace=True)\n",
      "        (6): Conv2d(512, 256, kernel_size=(1, 1), stride=(1, 1), bias=False)\n",
      "        (7): BatchNorm2d(256, eps=1e-05, momentum=0.1, affine=True, track_running_stats=True)\n",
      "      )\n",
      "      (path_dropout): DropPath(drop_prob=0.000)\n",
      "    )\n",
      "    (11): _BottlekneckResidualBlock(\n",
      "      (body): Sequential(\n",
      "        (0): Conv2d(256, 544, kernel_size=(1, 1), stride=(1, 1), bias=False)\n",
      "        (1): BatchNorm2d(544, eps=1e-05, momentum=0.1, affine=True, track_running_stats=True)\n",
      "        (2): ReLU(inplace=True)\n",
      "        (3): Conv2d(544, 544, kernel_size=(3, 3), stride=(1, 1), padding=(1, 1), groups=544, bias=False)\n",
      "        (4): BatchNorm2d(544, eps=1e-05, momentum=0.1, affine=True, track_running_stats=True)\n",
      "        (5): ReLU(inplace=True)\n",
      "        (6): Conv2d(544, 256, kernel_size=(1, 1), stride=(1, 1), bias=False)\n",
      "        (7): BatchNorm2d(256, eps=1e-05, momentum=0.1, affine=True, track_running_stats=True)\n",
      "      )\n",
      "      (path_dropout): DropPath(drop_prob=0.000)\n",
      "    )\n",
      "    (12): _BottlekneckResidualBlock(\n",
      "      (body): Sequential(\n",
      "        (0): Conv2d(256, 416, kernel_size=(1, 1), stride=(1, 1), bias=False)\n",
      "        (1): BatchNorm2d(416, eps=1e-05, momentum=0.1, affine=True, track_running_stats=True)\n",
      "        (2): ReLU(inplace=True)\n",
      "        (3): Conv2d(416, 416, kernel_size=(5, 5), stride=(1, 1), padding=(2, 2), groups=416, bias=False)\n",
      "        (4): BatchNorm2d(416, eps=1e-05, momentum=0.1, affine=True, track_running_stats=True)\n",
      "        (5): ReLU(inplace=True)\n",
      "        (6): Conv2d(416, 256, kernel_size=(1, 1), stride=(1, 1), bias=False)\n",
      "        (7): BatchNorm2d(256, eps=1e-05, momentum=0.1, affine=True, track_running_stats=True)\n",
      "      )\n",
      "      (path_dropout): DropPath(drop_prob=0.000)\n",
      "    )\n",
      "    (13): _BottlekneckResidualBlock(\n",
      "      (se): _EfficientChannelAttentionModule(\n",
      "        (avg_pool): AdaptiveAvgPool2d(output_size=1)\n",
      "        (body): Sequential(\n",
      "          (0): Conv1d(256, 256, kernel_size=(5,), stride=(1,), padding=(2,))\n",
      "          (1): Hardsigmoid()\n",
      "        )\n",
      "      )\n",
      "      (body): Sequential(\n",
      "        (0): Conv2d(256, 416, kernel_size=(1, 1), stride=(1, 1), bias=False)\n",
      "        (1): BatchNorm2d(416, eps=1e-05, momentum=0.1, affine=True, track_running_stats=True)\n",
      "        (2): ReLU(inplace=True)\n",
      "        (3): Conv2d(416, 416, kernel_size=(5, 5), stride=(1, 1), padding=(2, 2), groups=416, bias=False)\n",
      "        (4): BatchNorm2d(416, eps=1e-05, momentum=0.1, affine=True, track_running_stats=True)\n",
      "        (5): ReLU(inplace=True)\n",
      "        (6): Conv2d(416, 256, kernel_size=(1, 1), stride=(1, 1), bias=False)\n",
      "        (7): BatchNorm2d(256, eps=1e-05, momentum=0.1, affine=True, track_running_stats=True)\n",
      "      )\n",
      "      (path_dropout): DropPath(drop_prob=0.000)\n",
      "    )\n",
      "    (14): _BottlekneckResidualBlock(\n",
      "      (se): _EfficientChannelAttentionModule(\n",
      "        (avg_pool): AdaptiveAvgPool2d(output_size=1)\n",
      "        (body): Sequential(\n",
      "          (0): Conv1d(256, 256, kernel_size=(5,), stride=(1,), padding=(2,))\n",
      "          (1): Hardsigmoid()\n",
      "        )\n",
      "      )\n",
      "      (body): Sequential(\n",
      "        (0): Conv2d(256, 448, kernel_size=(1, 1), stride=(1, 1), bias=False)\n",
      "        (1): BatchNorm2d(448, eps=1e-05, momentum=0.1, affine=True, track_running_stats=True)\n",
      "        (2): ReLU(inplace=True)\n",
      "        (3): Conv2d(448, 448, kernel_size=(5, 5), stride=(1, 1), padding=(2, 2), groups=448, bias=False)\n",
      "        (4): BatchNorm2d(448, eps=1e-05, momentum=0.1, affine=True, track_running_stats=True)\n",
      "        (5): ReLU(inplace=True)\n",
      "        (6): Conv2d(448, 256, kernel_size=(1, 1), stride=(1, 1), bias=False)\n",
      "        (7): BatchNorm2d(256, eps=1e-05, momentum=0.1, affine=True, track_running_stats=True)\n",
      "      )\n",
      "      (path_dropout): DropPath(drop_prob=0.000)\n",
      "    )\n",
      "    (15): _BottlekneckResidualBlock(\n",
      "      (se): _EfficientChannelAttentionModule(\n",
      "        (avg_pool): AdaptiveAvgPool2d(output_size=1)\n",
      "        (body): Sequential(\n",
      "          (0): Conv1d(256, 256, kernel_size=(5,), stride=(1,), padding=(2,))\n",
      "          (1): Hardsigmoid()\n",
      "        )\n",
      "      )\n",
      "      (body): Sequential(\n",
      "        (0): Conv2d(256, 672, kernel_size=(1, 1), stride=(1, 1), bias=False)\n",
      "        (1): BatchNorm2d(672, eps=1e-05, momentum=0.1, affine=True, track_running_stats=True)\n",
      "        (2): ReLU(inplace=True)\n",
      "        (3): Conv2d(672, 672, kernel_size=(3, 3), stride=(1, 1), padding=(1, 1), groups=672, bias=False)\n",
      "        (4): BatchNorm2d(672, eps=1e-05, momentum=0.1, affine=True, track_running_stats=True)\n",
      "        (5): ReLU(inplace=True)\n",
      "        (6): Conv2d(672, 256, kernel_size=(1, 1), stride=(1, 1), bias=False)\n",
      "        (7): BatchNorm2d(256, eps=1e-05, momentum=0.1, affine=True, track_running_stats=True)\n",
      "      )\n",
      "      (path_dropout): DropPath(drop_prob=0.000)\n",
      "    )\n",
      "  )\n",
      "  (value_head): _ValueHead(\n",
      "    (body): Sequential(\n",
      "      (0): Conv2d(256, 8, kernel_size=(1, 1), stride=(1, 1), bias=False)\n",
      "      (1): BatchNorm2d(8, eps=1e-05, momentum=0.1, affine=True, track_running_stats=True)\n",
      "      (2): ReLU(inplace=True)\n",
      "    )\n",
      "    (body_wdl): Sequential(\n",
      "      (0): Linear(in_features=512, out_features=3, bias=True)\n",
      "    )\n",
      "    (body_plys): Sequential(\n",
      "      (0): Linear(in_features=512, out_features=1, bias=True)\n",
      "      (1): Sigmoid()\n",
      "    )\n",
      "    (body_final): Sequential(\n",
      "      (0): Linear(in_features=512, out_features=256, bias=True)\n",
      "      (1): ReLU(inplace=True)\n",
      "      (2): Linear(in_features=256, out_features=1, bias=True)\n",
      "      (3): Tanh()\n",
      "    )\n",
      "  )\n",
      "  (policy_head): _PolicyHead(\n",
      "    (body): Sequential(\n",
      "      (0): Conv2d(256, 256, kernel_size=(3, 3), stride=(1, 1), padding=(1, 1), bias=False)\n",
      "      (1): BatchNorm2d(256, eps=1e-05, momentum=0.1, affine=True, track_running_stats=True)\n",
      "      (2): ReLU(inplace=True)\n",
      "      (3): Conv2d(256, 81, kernel_size=(3, 3), stride=(1, 1), padding=(1, 1), bias=False)\n",
      "    )\n",
      "  )\n",
      ")\n"
     ]
    }
   ],
   "source": [
    "if tc.framework == 'gluon':\n",
    "    print(net)\n",
    "elif tc.framework == 'pytorch':\n",
    "    print(model)"
   ]
  },
  {
   "cell_type": "code",
   "execution_count": 29,
   "metadata": {
    "scrolled": false
   },
   "outputs": [],
   "source": [
    "if tc.framework != 'pytorch' and symbol is not None:\n",
    "    display(mx.viz.plot_network(\n",
    "        symbol,\n",
    "        shape={'data':(1, input_shape[0], input_shape[1], input_shape[2])},\n",
    "        node_attrs={\"shape\":\"oval\",\"fixedsize\":\"false\"}\n",
    "    ))\n",
    "elif tc.framework == 'gluon':\n",
    "    display(mx.viz.plot_network(\n",
    "        net(mx.sym.var('data'))[1],\n",
    "        shape={'data':(1, input_shape[0], input_shape[1], input_shape[2])},\n",
    "        node_attrs={\"shape\":\"oval\",\"fixedsize\":\"false\"}\n",
    "    ))"
   ]
  },
  {
   "cell_type": "code",
   "execution_count": 30,
   "metadata": {
    "scrolled": false
   },
   "outputs": [
    {
     "name": "stdout",
     "output_type": "stream",
     "text": [
      "----------------------------------------------------------------\n",
      "        Layer (type)               Output Shape         Param #\n",
      "================================================================\n",
      "            Conv2d-1            [-1, 256, 8, 8]          78,336\n",
      "       BatchNorm2d-2            [-1, 256, 8, 8]             512\n",
      "              ReLU-3            [-1, 256, 8, 8]               0\n",
      "             _Stem-4            [-1, 256, 8, 8]               0\n",
      "            Conv2d-5            [-1, 224, 8, 8]          57,344\n",
      "       BatchNorm2d-6            [-1, 224, 8, 8]             448\n",
      "              ReLU-7            [-1, 224, 8, 8]               0\n",
      "            Conv2d-8            [-1, 224, 8, 8]           2,016\n",
      "       BatchNorm2d-9            [-1, 224, 8, 8]             448\n",
      "             ReLU-10            [-1, 224, 8, 8]               0\n",
      "           Conv2d-11            [-1, 256, 8, 8]          57,344\n",
      "      BatchNorm2d-12            [-1, 256, 8, 8]             512\n",
      "         DropPath-13            [-1, 256, 8, 8]               0\n",
      "_BottlekneckResidualBlock-14            [-1, 256, 8, 8]               0\n",
      "           Conv2d-15            [-1, 256, 8, 8]          65,536\n",
      "      BatchNorm2d-16            [-1, 256, 8, 8]             512\n",
      "             ReLU-17            [-1, 256, 8, 8]               0\n",
      "           Conv2d-18            [-1, 256, 8, 8]           2,304\n",
      "      BatchNorm2d-19            [-1, 256, 8, 8]             512\n",
      "             ReLU-20            [-1, 256, 8, 8]               0\n",
      "           Conv2d-21            [-1, 256, 8, 8]          65,536\n",
      "      BatchNorm2d-22            [-1, 256, 8, 8]             512\n",
      "         DropPath-23            [-1, 256, 8, 8]               0\n",
      "_BottlekneckResidualBlock-24            [-1, 256, 8, 8]               0\n",
      "           Conv2d-25            [-1, 288, 8, 8]          73,728\n",
      "      BatchNorm2d-26            [-1, 288, 8, 8]             576\n",
      "             ReLU-27            [-1, 288, 8, 8]               0\n",
      "           Conv2d-28            [-1, 288, 8, 8]           2,592\n",
      "      BatchNorm2d-29            [-1, 288, 8, 8]             576\n",
      "             ReLU-30            [-1, 288, 8, 8]               0\n",
      "           Conv2d-31            [-1, 256, 8, 8]          73,728\n",
      "      BatchNorm2d-32            [-1, 256, 8, 8]             512\n",
      "         DropPath-33            [-1, 256, 8, 8]               0\n",
      "_BottlekneckResidualBlock-34            [-1, 256, 8, 8]               0\n",
      "           Conv2d-35            [-1, 320, 8, 8]          81,920\n",
      "      BatchNorm2d-36            [-1, 320, 8, 8]             640\n",
      "             ReLU-37            [-1, 320, 8, 8]               0\n",
      "           Conv2d-38            [-1, 320, 8, 8]           2,880\n",
      "      BatchNorm2d-39            [-1, 320, 8, 8]             640\n",
      "             ReLU-40            [-1, 320, 8, 8]               0\n",
      "           Conv2d-41            [-1, 256, 8, 8]          81,920\n",
      "      BatchNorm2d-42            [-1, 256, 8, 8]             512\n",
      "         DropPath-43            [-1, 256, 8, 8]               0\n",
      "_BottlekneckResidualBlock-44            [-1, 256, 8, 8]               0\n",
      "           Conv2d-45            [-1, 352, 8, 8]          90,112\n",
      "      BatchNorm2d-46            [-1, 352, 8, 8]             704\n",
      "             ReLU-47            [-1, 352, 8, 8]               0\n",
      "           Conv2d-48            [-1, 352, 8, 8]           3,168\n",
      "      BatchNorm2d-49            [-1, 352, 8, 8]             704\n",
      "             ReLU-50            [-1, 352, 8, 8]               0\n",
      "           Conv2d-51            [-1, 256, 8, 8]          90,112\n",
      "      BatchNorm2d-52            [-1, 256, 8, 8]             512\n",
      "         DropPath-53            [-1, 256, 8, 8]               0\n",
      "_BottlekneckResidualBlock-54            [-1, 256, 8, 8]               0\n",
      "AdaptiveAvgPool2d-55            [-1, 256, 1, 1]               0\n",
      "           Conv1d-56               [-1, 256, 1]         327,936\n",
      "      Hardsigmoid-57               [-1, 256, 1]               0\n",
      "_EfficientChannelAttentionModule-58            [-1, 256, 8, 8]               0\n",
      "           Conv2d-59            [-1, 384, 8, 8]          98,304\n",
      "      BatchNorm2d-60            [-1, 384, 8, 8]             768\n",
      "             ReLU-61            [-1, 384, 8, 8]               0\n",
      "           Conv2d-62            [-1, 384, 8, 8]           3,456\n",
      "      BatchNorm2d-63            [-1, 384, 8, 8]             768\n",
      "             ReLU-64            [-1, 384, 8, 8]               0\n",
      "           Conv2d-65            [-1, 256, 8, 8]          98,304\n",
      "      BatchNorm2d-66            [-1, 256, 8, 8]             512\n",
      "         DropPath-67            [-1, 256, 8, 8]               0\n",
      "_BottlekneckResidualBlock-68            [-1, 256, 8, 8]               0\n",
      "           Conv2d-69            [-1, 416, 8, 8]         106,496\n",
      "      BatchNorm2d-70            [-1, 416, 8, 8]             832\n",
      "             ReLU-71            [-1, 416, 8, 8]               0\n",
      "           Conv2d-72            [-1, 416, 8, 8]           3,744\n",
      "      BatchNorm2d-73            [-1, 416, 8, 8]             832\n",
      "             ReLU-74            [-1, 416, 8, 8]               0\n",
      "           Conv2d-75            [-1, 256, 8, 8]         106,496\n",
      "      BatchNorm2d-76            [-1, 256, 8, 8]             512\n",
      "         DropPath-77            [-1, 256, 8, 8]               0\n",
      "_BottlekneckResidualBlock-78            [-1, 256, 8, 8]               0\n",
      "           Conv2d-79            [-1, 352, 8, 8]          90,112\n",
      "      BatchNorm2d-80            [-1, 352, 8, 8]             704\n",
      "             ReLU-81            [-1, 352, 8, 8]               0\n",
      "           Conv2d-82            [-1, 352, 8, 8]           8,800\n",
      "      BatchNorm2d-83            [-1, 352, 8, 8]             704\n",
      "             ReLU-84            [-1, 352, 8, 8]               0\n",
      "           Conv2d-85            [-1, 256, 8, 8]          90,112\n",
      "      BatchNorm2d-86            [-1, 256, 8, 8]             512\n",
      "         DropPath-87            [-1, 256, 8, 8]               0\n",
      "_BottlekneckResidualBlock-88            [-1, 256, 8, 8]               0\n",
      "AdaptiveAvgPool2d-89            [-1, 256, 1, 1]               0\n",
      "           Conv1d-90               [-1, 256, 1]         327,936\n",
      "      Hardsigmoid-91               [-1, 256, 1]               0\n",
      "_EfficientChannelAttentionModule-92            [-1, 256, 8, 8]               0\n",
      "           Conv2d-93            [-1, 480, 8, 8]         122,880\n",
      "      BatchNorm2d-94            [-1, 480, 8, 8]             960\n",
      "             ReLU-95            [-1, 480, 8, 8]               0\n",
      "           Conv2d-96            [-1, 480, 8, 8]           4,320\n",
      "      BatchNorm2d-97            [-1, 480, 8, 8]             960\n",
      "             ReLU-98            [-1, 480, 8, 8]               0\n",
      "           Conv2d-99            [-1, 256, 8, 8]         122,880\n",
      "     BatchNorm2d-100            [-1, 256, 8, 8]             512\n",
      "        DropPath-101            [-1, 256, 8, 8]               0\n",
      "_BottlekneckResidualBlock-102            [-1, 256, 8, 8]               0\n",
      "          Conv2d-103            [-1, 512, 8, 8]         131,072\n",
      "     BatchNorm2d-104            [-1, 512, 8, 8]           1,024\n",
      "            ReLU-105            [-1, 512, 8, 8]               0\n",
      "          Conv2d-106            [-1, 512, 8, 8]           4,608\n",
      "     BatchNorm2d-107            [-1, 512, 8, 8]           1,024\n",
      "            ReLU-108            [-1, 512, 8, 8]               0\n",
      "          Conv2d-109            [-1, 256, 8, 8]         131,072\n",
      "     BatchNorm2d-110            [-1, 256, 8, 8]             512\n",
      "        DropPath-111            [-1, 256, 8, 8]               0\n",
      "_BottlekneckResidualBlock-112            [-1, 256, 8, 8]               0\n",
      "          Conv2d-113            [-1, 544, 8, 8]         139,264\n",
      "     BatchNorm2d-114            [-1, 544, 8, 8]           1,088\n",
      "            ReLU-115            [-1, 544, 8, 8]               0\n",
      "          Conv2d-116            [-1, 544, 8, 8]           4,896\n",
      "     BatchNorm2d-117            [-1, 544, 8, 8]           1,088\n",
      "            ReLU-118            [-1, 544, 8, 8]               0\n",
      "          Conv2d-119            [-1, 256, 8, 8]         139,264\n",
      "     BatchNorm2d-120            [-1, 256, 8, 8]             512\n",
      "        DropPath-121            [-1, 256, 8, 8]               0\n",
      "_BottlekneckResidualBlock-122            [-1, 256, 8, 8]               0\n",
      "          Conv2d-123            [-1, 416, 8, 8]         106,496\n",
      "     BatchNorm2d-124            [-1, 416, 8, 8]             832\n",
      "            ReLU-125            [-1, 416, 8, 8]               0\n",
      "          Conv2d-126            [-1, 416, 8, 8]          10,400\n",
      "     BatchNorm2d-127            [-1, 416, 8, 8]             832\n",
      "            ReLU-128            [-1, 416, 8, 8]               0\n",
      "          Conv2d-129            [-1, 256, 8, 8]         106,496\n",
      "     BatchNorm2d-130            [-1, 256, 8, 8]             512\n",
      "        DropPath-131            [-1, 256, 8, 8]               0\n",
      "_BottlekneckResidualBlock-132            [-1, 256, 8, 8]               0\n",
      "AdaptiveAvgPool2d-133            [-1, 256, 1, 1]               0\n",
      "          Conv1d-134               [-1, 256, 1]         327,936\n",
      "     Hardsigmoid-135               [-1, 256, 1]               0\n",
      "_EfficientChannelAttentionModule-136            [-1, 256, 8, 8]               0\n",
      "          Conv2d-137            [-1, 416, 8, 8]         106,496\n",
      "     BatchNorm2d-138            [-1, 416, 8, 8]             832\n",
      "            ReLU-139            [-1, 416, 8, 8]               0\n",
      "          Conv2d-140            [-1, 416, 8, 8]          10,400\n",
      "     BatchNorm2d-141            [-1, 416, 8, 8]             832\n",
      "            ReLU-142            [-1, 416, 8, 8]               0\n",
      "          Conv2d-143            [-1, 256, 8, 8]         106,496\n",
      "     BatchNorm2d-144            [-1, 256, 8, 8]             512\n",
      "        DropPath-145            [-1, 256, 8, 8]               0\n",
      "_BottlekneckResidualBlock-146            [-1, 256, 8, 8]               0\n",
      "AdaptiveAvgPool2d-147            [-1, 256, 1, 1]               0\n",
      "          Conv1d-148               [-1, 256, 1]         327,936\n",
      "     Hardsigmoid-149               [-1, 256, 1]               0\n",
      "_EfficientChannelAttentionModule-150            [-1, 256, 8, 8]               0\n",
      "          Conv2d-151            [-1, 448, 8, 8]         114,688\n",
      "     BatchNorm2d-152            [-1, 448, 8, 8]             896\n",
      "            ReLU-153            [-1, 448, 8, 8]               0\n",
      "          Conv2d-154            [-1, 448, 8, 8]          11,200\n",
      "     BatchNorm2d-155            [-1, 448, 8, 8]             896\n",
      "            ReLU-156            [-1, 448, 8, 8]               0\n",
      "          Conv2d-157            [-1, 256, 8, 8]         114,688\n",
      "     BatchNorm2d-158            [-1, 256, 8, 8]             512\n",
      "        DropPath-159            [-1, 256, 8, 8]               0\n",
      "_BottlekneckResidualBlock-160            [-1, 256, 8, 8]               0\n",
      "AdaptiveAvgPool2d-161            [-1, 256, 1, 1]               0\n",
      "          Conv1d-162               [-1, 256, 1]         327,936\n",
      "     Hardsigmoid-163               [-1, 256, 1]               0\n",
      "_EfficientChannelAttentionModule-164            [-1, 256, 8, 8]               0\n",
      "          Conv2d-165            [-1, 672, 8, 8]         172,032\n",
      "     BatchNorm2d-166            [-1, 672, 8, 8]           1,344\n",
      "            ReLU-167            [-1, 672, 8, 8]               0\n",
      "          Conv2d-168            [-1, 672, 8, 8]           6,048\n",
      "     BatchNorm2d-169            [-1, 672, 8, 8]           1,344\n",
      "            ReLU-170            [-1, 672, 8, 8]               0\n",
      "          Conv2d-171            [-1, 256, 8, 8]         172,032\n",
      "     BatchNorm2d-172            [-1, 256, 8, 8]             512\n",
      "        DropPath-173            [-1, 256, 8, 8]               0\n",
      "_BottlekneckResidualBlock-174            [-1, 256, 8, 8]               0\n",
      "          Conv2d-175              [-1, 8, 8, 8]           2,048\n",
      "     BatchNorm2d-176              [-1, 8, 8, 8]              16\n",
      "            ReLU-177              [-1, 8, 8, 8]               0\n",
      "          Linear-178                    [-1, 3]           1,539\n",
      "          Linear-179                    [-1, 1]             513\n",
      "         Sigmoid-180                    [-1, 1]               0\n",
      "      _ValueHead-181  [[-1, 1], [-1, 3], [-1, 1]]               0\n",
      "          Conv2d-182            [-1, 256, 8, 8]         589,824\n",
      "     BatchNorm2d-183            [-1, 256, 8, 8]             512\n",
      "            ReLU-184            [-1, 256, 8, 8]               0\n",
      "          Conv2d-185             [-1, 81, 8, 8]         186,624\n",
      "     _PolicyHead-186                 [-1, 5184]               0\n",
      "================================================================\n",
      "Total params: 5,725,396\n",
      "Trainable params: 5,725,396\n",
      "Non-trainable params: 0\n",
      "----------------------------------------------------------------\n",
      "Input size (MB): 0.01\n",
      "Forward/backward pass size (MB): 26.93\n",
      "Params size (MB): 21.84\n",
      "Estimated Total Size (MB): 48.78\n",
      "----------------------------------------------------------------\n"
     ]
    }
   ],
   "source": [
    "if tc.framework == 'mxnet':\n",
    "    mx.viz.print_summary(\n",
    "        symbol,\n",
    "        shape={'data':(1, input_shape[0], input_shape[1], input_shape[2])},\n",
    "    )\n",
    "elif tc.framework == 'gluon':\n",
    "    mx.viz.print_summary(\n",
    "    net(mx.sym.var('data'))[1], \n",
    "    shape={'data':(1, input_shape[0], input_shape[1], input_shape[2])},\n",
    "    ) \n",
    "elif tc.framework == 'pytorch':\n",
    "    summary(model, (input_shape[0], input_shape[1], input_shape[2]), device=\"cpu\")"
   ]
  },
  {
   "cell_type": "markdown",
   "metadata": {},
   "source": [
    "## Analyze the Flops"
   ]
  },
  {
   "cell_type": "code",
   "execution_count": 31,
   "metadata": {},
   "outputs": [
    {
     "name": "stdout",
     "output_type": "stream",
     "text": [
      "2023-08-08 13:29:02 fvcore.nn.jit_analysis[4728] \u001b[1mWARNING\u001b[0m Unsupported operator aten::add_ encountered 48 time(s)\n",
      "2023-08-08 13:29:02 fvcore.nn.jit_analysis[4728] \u001b[1mWARNING\u001b[0m Unsupported operator aten::add encountered 16 time(s)\n",
      "2023-08-08 13:29:02 fvcore.nn.jit_analysis[4728] \u001b[1mWARNING\u001b[0m Unsupported operator aten::hardsigmoid encountered 5 time(s)\n",
      "2023-08-08 13:29:02 fvcore.nn.jit_analysis[4728] \u001b[1mWARNING\u001b[0m Unsupported operator aten::expand_as encountered 5 time(s)\n",
      "2023-08-08 13:29:02 fvcore.nn.jit_analysis[4728] \u001b[1mWARNING\u001b[0m Unsupported operator aten::mul encountered 5 time(s)\n",
      "2023-08-08 13:29:02 fvcore.nn.jit_analysis[4728] \u001b[1mWARNING\u001b[0m Unsupported operator aten::sigmoid encountered 1 time(s)\n",
      "2023-08-08 13:29:02 fvcore.nn.jit_analysis[4728] \u001b[1mWARNING\u001b[0m Unsupported operator aten::softmax encountered 1 time(s)\n",
      "2023-08-08 13:29:02 fvcore.nn.jit_analysis[4728] \u001b[1mWARNING\u001b[0m Unsupported operator aten::neg encountered 1 time(s)\n",
      "2023-08-08 13:29:02 fvcore.nn.jit_analysis[4728] \u001b[1mWARNING\u001b[0m The following submodules of the model were never called during the trace of the graph. They may be unused, or they were accessed by direct calls to .forward() or via other python methods. In the latter case they will have zeros for statistics, though their statistics will still contribute to their parent calling module.\n",
      "body_spatial.1.path_dropout, body_spatial.10.path_dropout, body_spatial.11.path_dropout, body_spatial.12.path_dropout, body_spatial.13.path_dropout, body_spatial.14.path_dropout, body_spatial.15.path_dropout, body_spatial.2.path_dropout, body_spatial.3.path_dropout, body_spatial.4.path_dropout, body_spatial.5.path_dropout, body_spatial.6.path_dropout, body_spatial.7.path_dropout, body_spatial.8.path_dropout, body_spatial.9.path_dropout, value_head.body_final, value_head.body_final.0, value_head.body_final.1, value_head.body_final.2, value_head.body_final.3\n",
      "266248704\n",
      "| module                           | #parameters or shape   | #flops     |\n",
      "|:---------------------------------|:-----------------------|:-----------|\n",
      "| model                            | 5.857M                 | 0.266G     |\n",
      "|  body_spatial                    |  4.944M                |  0.216G    |\n",
      "|   body_spatial.0.body            |   78.848K              |   5.095M   |\n",
      "|    body_spatial.0.body.0         |    78.336K             |    5.014M  |\n",
      "|    body_spatial.0.body.1         |    0.512K              |    81.92K  |\n",
      "|   body_spatial.1.body            |   0.118M               |   7.694M   |\n",
      "|    body_spatial.1.body.0         |    57.344K             |    3.67M   |\n",
      "|    body_spatial.1.body.1         |    0.448K              |    71.68K  |\n",
      "|    body_spatial.1.body.3         |    2.016K              |    0.129M  |\n",
      "|    body_spatial.1.body.4         |    0.448K              |    71.68K  |\n",
      "|    body_spatial.1.body.6         |    57.344K             |    3.67M   |\n",
      "|    body_spatial.1.body.7         |    0.512K              |    81.92K  |\n",
      "|   body_spatial.2.body            |   0.135M               |   8.782M   |\n",
      "|    body_spatial.2.body.0         |    65.536K             |    4.194M  |\n",
      "|    body_spatial.2.body.1         |    0.512K              |    81.92K  |\n",
      "|    body_spatial.2.body.3         |    2.304K              |    0.147M  |\n",
      "|    body_spatial.2.body.4         |    0.512K              |    81.92K  |\n",
      "|    body_spatial.2.body.6         |    65.536K             |    4.194M  |\n",
      "|    body_spatial.2.body.7         |    0.512K              |    81.92K  |\n",
      "|   body_spatial.3.body            |   0.152M               |   9.869M   |\n",
      "|    body_spatial.3.body.0         |    73.728K             |    4.719M  |\n",
      "|    body_spatial.3.body.1         |    0.576K              |    92.16K  |\n",
      "|    body_spatial.3.body.3         |    2.592K              |    0.166M  |\n",
      "|    body_spatial.3.body.4         |    0.576K              |    92.16K  |\n",
      "|    body_spatial.3.body.6         |    73.728K             |    4.719M  |\n",
      "|    body_spatial.3.body.7         |    0.512K              |    81.92K  |\n",
      "|   body_spatial.4.body            |   0.169M               |   10.957M  |\n",
      "|    body_spatial.4.body.0         |    81.92K              |    5.243M  |\n",
      "|    body_spatial.4.body.1         |    0.64K               |    0.102M  |\n",
      "|    body_spatial.4.body.3         |    2.88K               |    0.184M  |\n",
      "|    body_spatial.4.body.4         |    0.64K               |    0.102M  |\n",
      "|    body_spatial.4.body.6         |    81.92K              |    5.243M  |\n",
      "|    body_spatial.4.body.7         |    0.512K              |    81.92K  |\n",
      "|   body_spatial.5.body            |   0.185M               |   12.044M  |\n",
      "|    body_spatial.5.body.0         |    90.112K             |    5.767M  |\n",
      "|    body_spatial.5.body.1         |    0.704K              |    0.113M  |\n",
      "|    body_spatial.5.body.3         |    3.168K              |    0.203M  |\n",
      "|    body_spatial.5.body.4         |    0.704K              |    0.113M  |\n",
      "|    body_spatial.5.body.6         |    90.112K             |    5.767M  |\n",
      "|    body_spatial.5.body.7         |    0.512K              |    81.92K  |\n",
      "|   body_spatial.6                 |   0.53M                |   13.476M  |\n",
      "|    body_spatial.6.se             |    0.328M              |    0.344M  |\n",
      "|    body_spatial.6.body           |    0.202M              |    13.132M |\n",
      "|   body_spatial.7.body            |   0.219M               |   14.219M  |\n",
      "|    body_spatial.7.body.0         |    0.106M              |    6.816M  |\n",
      "|    body_spatial.7.body.1         |    0.832K              |    0.133M  |\n",
      "|    body_spatial.7.body.3         |    3.744K              |    0.24M   |\n",
      "|    body_spatial.7.body.4         |    0.832K              |    0.133M  |\n",
      "|    body_spatial.7.body.6         |    0.106M              |    6.816M  |\n",
      "|    body_spatial.7.body.7         |    0.512K              |    81.92K  |\n",
      "|   body_spatial.8.body            |   0.191M               |   12.405M  |\n",
      "|    body_spatial.8.body.0         |    90.112K             |    5.767M  |\n",
      "|    body_spatial.8.body.1         |    0.704K              |    0.113M  |\n",
      "|    body_spatial.8.body.3         |    8.8K                |    0.563M  |\n",
      "|    body_spatial.8.body.4         |    0.704K              |    0.113M  |\n",
      "|    body_spatial.8.body.6         |    90.112K             |    5.767M  |\n",
      "|    body_spatial.8.body.7         |    0.512K              |    81.92K  |\n",
      "|   body_spatial.9                 |   0.58M                |   16.738M  |\n",
      "|    body_spatial.9.se             |    0.328M              |    0.344M  |\n",
      "|    body_spatial.9.body           |    0.253M              |    16.394M |\n",
      "|   body_spatial.10.body           |   0.269M               |   17.482M  |\n",
      "|    body_spatial.10.body.0        |    0.131M              |    8.389M  |\n",
      "|    body_spatial.10.body.1        |    1.024K              |    0.164M  |\n",
      "|    body_spatial.10.body.3        |    4.608K              |    0.295M  |\n",
      "|    body_spatial.10.body.4        |    1.024K              |    0.164M  |\n",
      "|    body_spatial.10.body.6        |    0.131M              |    8.389M  |\n",
      "|    body_spatial.10.body.7        |    0.512K              |    81.92K  |\n",
      "|   body_spatial.11.body           |   0.286M               |   18.569M  |\n",
      "|    body_spatial.11.body.0        |    0.139M              |    8.913M  |\n",
      "|    body_spatial.11.body.1        |    1.088K              |    0.174M  |\n",
      "|    body_spatial.11.body.3        |    4.896K              |    0.313M  |\n",
      "|    body_spatial.11.body.4        |    1.088K              |    0.174M  |\n",
      "|    body_spatial.11.body.6        |    0.139M              |    8.913M  |\n",
      "|    body_spatial.11.body.7        |    0.512K              |    81.92K  |\n",
      "|   body_spatial.12.body           |   0.226M               |   14.645M  |\n",
      "|    body_spatial.12.body.0        |    0.106M              |    6.816M  |\n",
      "|    body_spatial.12.body.1        |    0.832K              |    0.133M  |\n",
      "|    body_spatial.12.body.3        |    10.4K               |    0.666M  |\n",
      "|    body_spatial.12.body.4        |    0.832K              |    0.133M  |\n",
      "|    body_spatial.12.body.6        |    0.106M              |    6.816M  |\n",
      "|    body_spatial.12.body.7        |    0.512K              |    81.92K  |\n",
      "|   body_spatial.13                |   0.554M               |   14.989M  |\n",
      "|    body_spatial.13.se            |    0.328M              |    0.344M  |\n",
      "|    body_spatial.13.body          |    0.226M              |    14.645M |\n",
      "|   body_spatial.14                |   0.571M               |   16.11M   |\n",
      "|    body_spatial.14.se            |    0.328M              |    0.344M  |\n",
      "|    body_spatial.14.body          |    0.243M              |    15.766M |\n",
      "|   body_spatial.15                |   0.681M               |   23.263M  |\n",
      "|    body_spatial.15.se            |    0.328M              |    0.344M  |\n",
      "|    body_spatial.15.body          |    0.353M              |    22.919M |\n",
      "|  value_head                      |  0.136M                |  0.136M    |\n",
      "|   value_head.body                |   2.064K               |   0.134M   |\n",
      "|    value_head.body.0             |    2.048K              |    0.131M  |\n",
      "|    value_head.body.1             |    16                  |    2.56K   |\n",
      "|   value_head.body_wdl.0          |   1.539K               |   1.536K   |\n",
      "|    value_head.body_wdl.0.weight  |    (3, 512)            |            |\n",
      "|    value_head.body_wdl.0.bias    |    (3,)                |            |\n",
      "|   value_head.body_plys.0         |   0.513K               |   0.512K   |\n",
      "|    value_head.body_plys.0.weight |    (1, 512)            |            |\n",
      "|    value_head.body_plys.0.bias   |    (1,)                |            |\n",
      "|   value_head.body_final          |   0.132M               |            |\n",
      "|    value_head.body_final.0       |    0.131M              |            |\n",
      "|    value_head.body_final.2       |    0.257K              |            |\n",
      "|  policy_head.body                |  0.777M                |  49.775M   |\n",
      "|   policy_head.body.0             |   0.59M                |   37.749M  |\n",
      "|    policy_head.body.0.weight     |    (256, 256, 3, 3)    |            |\n",
      "|   policy_head.body.1             |   0.512K               |   81.92K   |\n",
      "|    policy_head.body.1.weight     |    (256,)              |            |\n",
      "|    policy_head.body.1.bias       |    (256,)              |            |\n",
      "|   policy_head.body.3             |   0.187M               |   11.944M  |\n",
      "|    policy_head.body.3.weight     |    (81, 256, 3, 3)     |            |\n"
     ]
    }
   ],
   "source": [
    "if tc.framework == 'pytorch':\n",
    "    dummy_input = torch.Tensor(np.expand_dims(x_val[0], axis=0)).to('cpu')\n",
    "    flops = FlopCountAnalysis(model, dummy_input)\n",
    "    print(flops.total())\n",
    "    from fvcore.nn import flop_count_table\n",
    "    print(flop_count_table(flops))"
   ]
  },
  {
   "cell_type": "markdown",
   "metadata": {},
   "source": [
    "## Initialize the weights \n",
    "(only needed if no pretrained weights are used)"
   ]
  },
  {
   "cell_type": "code",
   "execution_count": 32,
   "metadata": {
    "scrolled": false
   },
   "outputs": [],
   "source": [
    "if tc.framework == 'mxnet':\n",
    "    # create a trainable module on compute context\n",
    "    if tc.use_wdl and tc.use_plys_to_end:\n",
    "        label_names=['value_label', 'policy_label', 'wdl_label', 'plys_to_end_label']\n",
    "    else:\n",
    "        label_names=['value_label', 'policy_label']\n",
    "    \n",
    "    model = mx.mod.Module(symbol=symbol, context=ctx, label_names=label_names)\n",
    "    model.bind(for_training=True, data_shapes=[('data', (tc.batch_size, input_shape[0], input_shape[1], input_shape[2]))],\n",
    "             label_shapes=val_iter.provide_label)\n",
    "    model.init_params(mx.initializer.Xavier(rnd_type='uniform', factor_type='avg', magnitude=2.24))\n",
    "    if tc.params_file:\n",
    "        model.load_params(tc.export_dir + \"weights/\" + tc.params_file)\n",
    "elif tc.framework == 'gluon':    \n",
    "    # Initializing the parameters\n",
    "    for param in net.collect_params('.*gamma|.*moving_mean|.*moving_var'):\n",
    "        net.params[param].initialize(mx.initializer.Constant(1), ctx=ctx)\n",
    "    for param in net.collect_params('.*beta|.*bias'):\n",
    "        net.params[param].initialize(mx.initializer.Constant(0), ctx=ctx)\n",
    "    for param in net.collect_params('.*weight'):\n",
    "        net.params[param].initialize(mx.init.Xavier(rnd_type='uniform', factor_type='avg', magnitude=2.24), ctx=ctx)\n",
    "\n",
    "    if tc.params_file:\n",
    "        net.collect_params().load(tc.export_dir + \"weights/\" + tc.params_file, ctx)\n",
    "    net.hybridize()\n",
    "elif tc.framework == 'pytorch':\n",
    "    def init_weights(m):\n",
    "        if isinstance(m, torch.nn.Linear) or isinstance(m, torch.nn.Conv2d):\n",
    "            torch.nn.init.xavier_uniform_(m.weight)\n",
    "            if isinstance(m, torch.nn.Linear):\n",
    "                m.bias.data.fill_(0.01)\n",
    "    #model.apply(init_weights)\n",
    "    if torch.cuda.is_available():\n",
    "        model.cuda(torch.device(f\"cuda:{tc.device_id}\"))"
   ]
  },
  {
   "cell_type": "markdown",
   "metadata": {},
   "source": [
    "## Define the metrics to use"
   ]
  },
  {
   "cell_type": "code",
   "execution_count": 33,
   "metadata": {
    "scrolled": true
   },
   "outputs": [],
   "source": [
    "to.metrics = get_metrics(tc)"
   ]
  },
  {
   "cell_type": "markdown",
   "metadata": {},
   "source": [
    "## Define a training agent"
   ]
  },
  {
   "cell_type": "code",
   "execution_count": 34,
   "metadata": {
    "scrolled": true
   },
   "outputs": [],
   "source": [
    "if tc.framework == 'mxnet':\n",
    "    train_agent = TrainerAgentMXNET(model, symbol, val_iter, tc, to, use_rtpt=True)\n",
    "elif tc.framework == 'gluon':\n",
    "    train_agent = TrainerAgentGluon(net, val_data, tc, to, use_rtpt=True)\n",
    "elif tc.framework == 'pytorch':\n",
    "    train_agent = TrainerAgentPytorch(model, val_data, tc, to, use_rtpt=True)"
   ]
  },
  {
   "cell_type": "markdown",
   "metadata": {},
   "source": [
    "## Performance Pre-Training"
   ]
  },
  {
   "cell_type": "code",
   "execution_count": 35,
   "metadata": {
    "scrolled": false
   },
   "outputs": [],
   "source": [
    "if tc.framework == 'mxnet':\n",
    "    print(model.score(val_iter, to.metrics))"
   ]
  },
  {
   "cell_type": "markdown",
   "metadata": {},
   "source": [
    "## Start the training process"
   ]
  },
  {
   "cell_type": "code",
   "execution_count": 36,
   "metadata": {
    "scrolled": false
   },
   "outputs": [
    {
     "name": "stdout",
     "output_type": "stream",
     "text": [
      "2023-08-08 13:29:03 root[4728] \u001b[1mINFO\u001b[0m EPOCH 1\n",
      "2023-08-08 13:29:03 root[4728] \u001b[1mINFO\u001b[0m =========================\n"
     ]
    },
    {
     "data": {
      "application/vnd.jupyter.widget-view+json": {
       "model_id": "8c0f1b564e024617bc6891014be2f59e",
       "version_major": 2,
       "version_minor": 0
      },
      "text/plain": [
       "  0%|          | 0/24 [00:00<?, ?it/s]"
      ]
     },
     "metadata": {},
     "output_type": "display_data"
    },
    {
     "ename": "KeyboardInterrupt",
     "evalue": "",
     "output_type": "error",
     "traceback": [
      "\u001b[1;31m---------------------------------------------------------------------------\u001b[0m",
      "\u001b[1;31mKeyboardInterrupt\u001b[0m                         Traceback (most recent call last)",
      "Cell \u001b[1;32mIn[36], line 2\u001b[0m\n\u001b[0;32m      1\u001b[0m (k_steps_final, value_loss_final, policy_loss_final, value_acc_sign_final, val_p_acc_final), \\\n\u001b[1;32m----> 2\u001b[0m     (k_steps_best, val_metric_values_best) \u001b[39m=\u001b[39m train_agent\u001b[39m.\u001b[39;49mtrain(cur_it)\n",
      "File \u001b[1;32md:\\Masterarbeit\\CrazyAra\\DeepCrazyhouse\\src\\training\\../../..\\DeepCrazyhouse\\src\\training\\trainer_agent_pytorch.py:126\u001b[0m, in \u001b[0;36mTrainerAgentPytorch.train\u001b[1;34m(self, cur_it)\u001b[0m\n\u001b[0;32m    123\u001b[0m train_loader \u001b[39m=\u001b[39m \u001b[39mself\u001b[39m\u001b[39m.\u001b[39m_get_train_loader(part_id)\n\u001b[0;32m    125\u001b[0m \u001b[39mfor\u001b[39;00m _, batch \u001b[39min\u001b[39;00m \u001b[39menumerate\u001b[39m(train_loader):\n\u001b[1;32m--> 126\u001b[0m     data \u001b[39m=\u001b[39m \u001b[39mself\u001b[39;49m\u001b[39m.\u001b[39;49mtrain_update(batch)\n\u001b[0;32m    128\u001b[0m     \u001b[39m# add the graph representation of the network to the tensorboard log file\u001b[39;00m\n\u001b[0;32m    129\u001b[0m     \u001b[39mif\u001b[39;00m \u001b[39mnot\u001b[39;00m \u001b[39mself\u001b[39m\u001b[39m.\u001b[39mgraph_exported \u001b[39mand\u001b[39;00m \u001b[39mself\u001b[39m\u001b[39m.\u001b[39mtc\u001b[39m.\u001b[39mlog_metrics_to_tensorboard:\n",
      "File \u001b[1;32md:\\Masterarbeit\\CrazyAra\\DeepCrazyhouse\\src\\training\\../../..\\DeepCrazyhouse\\src\\training\\trainer_agent_pytorch.py:365\u001b[0m, in \u001b[0;36mTrainerAgentPytorch.train_update\u001b[1;34m(self, batch)\u001b[0m\n\u001b[0;32m    363\u001b[0m     \u001b[39mif\u001b[39;00m \u001b[39m'\u001b[39m\u001b[39mmomentum\u001b[39m\u001b[39m'\u001b[39m \u001b[39min\u001b[39;00m param_group:\n\u001b[0;32m    364\u001b[0m         param_group[\u001b[39m'\u001b[39m\u001b[39mmomentum\u001b[39m\u001b[39m'\u001b[39m] \u001b[39m=\u001b[39m \u001b[39mself\u001b[39m\u001b[39m.\u001b[39mto\u001b[39m.\u001b[39mmomentum_schedule(\u001b[39mself\u001b[39m\u001b[39m.\u001b[39mcur_it)  \u001b[39m# update the momentum\u001b[39;00m\n\u001b[1;32m--> 365\u001b[0m \u001b[39mself\u001b[39;49m\u001b[39m.\u001b[39;49moptimizer\u001b[39m.\u001b[39;49mstep()\n\u001b[0;32m    366\u001b[0m \u001b[39mself\u001b[39m\u001b[39m.\u001b[39mcur_it \u001b[39m+\u001b[39m\u001b[39m=\u001b[39m \u001b[39m1\u001b[39m\n\u001b[0;32m    367\u001b[0m \u001b[39mself\u001b[39m\u001b[39m.\u001b[39mbatch_proc_tmp \u001b[39m+\u001b[39m\u001b[39m=\u001b[39m \u001b[39m1\u001b[39m\n",
      "File \u001b[1;32mc:\\ProgramData\\anaconda3\\envs\\py38\\lib\\site-packages\\torch\\optim\\optimizer.py:113\u001b[0m, in \u001b[0;36mOptimizer._hook_for_profile.<locals>.profile_hook_step.<locals>.wrapper\u001b[1;34m(*args, **kwargs)\u001b[0m\n\u001b[0;32m    111\u001b[0m profile_name \u001b[39m=\u001b[39m \u001b[39m\"\u001b[39m\u001b[39mOptimizer.step#\u001b[39m\u001b[39m{}\u001b[39;00m\u001b[39m.step\u001b[39m\u001b[39m\"\u001b[39m\u001b[39m.\u001b[39mformat(obj\u001b[39m.\u001b[39m\u001b[39m__class__\u001b[39m\u001b[39m.\u001b[39m\u001b[39m__name__\u001b[39m)\n\u001b[0;32m    112\u001b[0m \u001b[39mwith\u001b[39;00m torch\u001b[39m.\u001b[39mautograd\u001b[39m.\u001b[39mprofiler\u001b[39m.\u001b[39mrecord_function(profile_name):\n\u001b[1;32m--> 113\u001b[0m     \u001b[39mreturn\u001b[39;00m func(\u001b[39m*\u001b[39;49margs, \u001b[39m*\u001b[39;49m\u001b[39m*\u001b[39;49mkwargs)\n",
      "File \u001b[1;32mc:\\ProgramData\\anaconda3\\envs\\py38\\lib\\site-packages\\torch\\autograd\\grad_mode.py:27\u001b[0m, in \u001b[0;36m_DecoratorContextManager.__call__.<locals>.decorate_context\u001b[1;34m(*args, **kwargs)\u001b[0m\n\u001b[0;32m     24\u001b[0m \u001b[39m@functools\u001b[39m\u001b[39m.\u001b[39mwraps(func)\n\u001b[0;32m     25\u001b[0m \u001b[39mdef\u001b[39;00m \u001b[39mdecorate_context\u001b[39m(\u001b[39m*\u001b[39margs, \u001b[39m*\u001b[39m\u001b[39m*\u001b[39mkwargs):\n\u001b[0;32m     26\u001b[0m     \u001b[39mwith\u001b[39;00m \u001b[39mself\u001b[39m\u001b[39m.\u001b[39mclone():\n\u001b[1;32m---> 27\u001b[0m         \u001b[39mreturn\u001b[39;00m func(\u001b[39m*\u001b[39;49margs, \u001b[39m*\u001b[39;49m\u001b[39m*\u001b[39;49mkwargs)\n",
      "File \u001b[1;32mc:\\ProgramData\\anaconda3\\envs\\py38\\lib\\site-packages\\torch\\optim\\sgd.py:146\u001b[0m, in \u001b[0;36mSGD.step\u001b[1;34m(self, closure)\u001b[0m\n\u001b[0;32m    143\u001b[0m         \u001b[39melse\u001b[39;00m:\n\u001b[0;32m    144\u001b[0m             momentum_buffer_list\u001b[39m.\u001b[39mappend(state[\u001b[39m'\u001b[39m\u001b[39mmomentum_buffer\u001b[39m\u001b[39m'\u001b[39m])\n\u001b[1;32m--> 146\u001b[0m sgd(params_with_grad,\n\u001b[0;32m    147\u001b[0m     d_p_list,\n\u001b[0;32m    148\u001b[0m     momentum_buffer_list,\n\u001b[0;32m    149\u001b[0m     weight_decay\u001b[39m=\u001b[39;49mgroup[\u001b[39m'\u001b[39;49m\u001b[39mweight_decay\u001b[39;49m\u001b[39m'\u001b[39;49m],\n\u001b[0;32m    150\u001b[0m     momentum\u001b[39m=\u001b[39;49mgroup[\u001b[39m'\u001b[39;49m\u001b[39mmomentum\u001b[39;49m\u001b[39m'\u001b[39;49m],\n\u001b[0;32m    151\u001b[0m     lr\u001b[39m=\u001b[39;49mgroup[\u001b[39m'\u001b[39;49m\u001b[39mlr\u001b[39;49m\u001b[39m'\u001b[39;49m],\n\u001b[0;32m    152\u001b[0m     dampening\u001b[39m=\u001b[39;49mgroup[\u001b[39m'\u001b[39;49m\u001b[39mdampening\u001b[39;49m\u001b[39m'\u001b[39;49m],\n\u001b[0;32m    153\u001b[0m     nesterov\u001b[39m=\u001b[39;49mgroup[\u001b[39m'\u001b[39;49m\u001b[39mnesterov\u001b[39;49m\u001b[39m'\u001b[39;49m],\n\u001b[0;32m    154\u001b[0m     maximize\u001b[39m=\u001b[39;49mgroup[\u001b[39m'\u001b[39;49m\u001b[39mmaximize\u001b[39;49m\u001b[39m'\u001b[39;49m],\n\u001b[0;32m    155\u001b[0m     has_sparse_grad\u001b[39m=\u001b[39;49mhas_sparse_grad,\n\u001b[0;32m    156\u001b[0m     foreach\u001b[39m=\u001b[39;49mgroup[\u001b[39m'\u001b[39;49m\u001b[39mforeach\u001b[39;49m\u001b[39m'\u001b[39;49m])\n\u001b[0;32m    158\u001b[0m \u001b[39m# update momentum_buffers in state\u001b[39;00m\n\u001b[0;32m    159\u001b[0m \u001b[39mfor\u001b[39;00m p, momentum_buffer \u001b[39min\u001b[39;00m \u001b[39mzip\u001b[39m(params_with_grad, momentum_buffer_list):\n",
      "File \u001b[1;32mc:\\ProgramData\\anaconda3\\envs\\py38\\lib\\site-packages\\torch\\optim\\sgd.py:197\u001b[0m, in \u001b[0;36msgd\u001b[1;34m(params, d_p_list, momentum_buffer_list, has_sparse_grad, foreach, weight_decay, momentum, lr, dampening, nesterov, maximize)\u001b[0m\n\u001b[0;32m    194\u001b[0m \u001b[39melse\u001b[39;00m:\n\u001b[0;32m    195\u001b[0m     func \u001b[39m=\u001b[39m _single_tensor_sgd\n\u001b[1;32m--> 197\u001b[0m func(params,\n\u001b[0;32m    198\u001b[0m      d_p_list,\n\u001b[0;32m    199\u001b[0m      momentum_buffer_list,\n\u001b[0;32m    200\u001b[0m      weight_decay\u001b[39m=\u001b[39;49mweight_decay,\n\u001b[0;32m    201\u001b[0m      momentum\u001b[39m=\u001b[39;49mmomentum,\n\u001b[0;32m    202\u001b[0m      lr\u001b[39m=\u001b[39;49mlr,\n\u001b[0;32m    203\u001b[0m      dampening\u001b[39m=\u001b[39;49mdampening,\n\u001b[0;32m    204\u001b[0m      nesterov\u001b[39m=\u001b[39;49mnesterov,\n\u001b[0;32m    205\u001b[0m      has_sparse_grad\u001b[39m=\u001b[39;49mhas_sparse_grad,\n\u001b[0;32m    206\u001b[0m      maximize\u001b[39m=\u001b[39;49mmaximize)\n",
      "File \u001b[1;32mc:\\ProgramData\\anaconda3\\envs\\py38\\lib\\site-packages\\torch\\optim\\sgd.py:241\u001b[0m, in \u001b[0;36m_single_tensor_sgd\u001b[1;34m(params, d_p_list, momentum_buffer_list, weight_decay, momentum, lr, dampening, nesterov, maximize, has_sparse_grad)\u001b[0m\n\u001b[0;32m    238\u001b[0m         d_p \u001b[39m=\u001b[39m buf\n\u001b[0;32m    240\u001b[0m alpha \u001b[39m=\u001b[39m lr \u001b[39mif\u001b[39;00m maximize \u001b[39melse\u001b[39;00m \u001b[39m-\u001b[39mlr\n\u001b[1;32m--> 241\u001b[0m param\u001b[39m.\u001b[39;49madd_(d_p, alpha\u001b[39m=\u001b[39;49malpha)\n",
      "\u001b[1;31mKeyboardInterrupt\u001b[0m: "
     ]
    }
   ],
   "source": [
    "(k_steps_final, value_loss_final, policy_loss_final, value_acc_sign_final, val_p_acc_final), \\\n",
    "    (k_steps_best, val_metric_values_best) = train_agent.train(cur_it)"
   ]
  },
  {
   "cell_type": "markdown",
   "metadata": {},
   "source": [
    "## Export the last model state"
   ]
  },
  {
   "cell_type": "code",
   "execution_count": null,
   "metadata": {
    "scrolled": true
   },
   "outputs": [],
   "source": [
    "prefix = tc.export_dir + \"weights/model-%.5f-%.3f\" % (policy_loss_final, val_p_acc_final)\n",
    "\n",
    "if tc.framework == 'mxnet':\n",
    "    # the export function saves both the architecture and the weights\n",
    "    model.save_checkpoint(prefix, epoch=k_steps_final)\n",
    "elif tc.framework == 'gluon':\n",
    "    # the export function saves both the architecture and the weights\n",
    "    net.export(prefix, epoch=k_steps_final)\n",
    "    logging.info(\"Saved checkpoint to %s-%04d.params\", prefix, k_steps_final)\n",
    "elif tc.framework == 'pytorch':\n",
    "    # the export function saves both the architecture and the weights\n",
    "    save_torch_state(model, torch.optim.SGD(model.parameters(), lr=tc.max_lr), '%s-%04d.tar' % (prefix, k_steps_final))"
   ]
  },
  {
   "cell_type": "markdown",
   "metadata": {},
   "source": [
    "## Print validation metrics for best model"
   ]
  },
  {
   "cell_type": "code",
   "execution_count": null,
   "metadata": {
    "scrolled": true
   },
   "outputs": [],
   "source": [
    "print(val_metric_values_best)"
   ]
  },
  {
   "cell_type": "markdown",
   "metadata": {},
   "source": [
    "## Copy best model to best-model directory"
   ]
  },
  {
   "cell_type": "code",
   "execution_count": null,
   "metadata": {},
   "outputs": [],
   "source": [
    "val_loss_best = val_metric_values_best[\"loss\"]\n",
    "val_p_acc_best = val_metric_values_best[\"policy_acc\"]\n",
    "\n",
    "model_name = \"model-%.5f-%.3f\" % (val_loss_best, val_p_acc_best)\n",
    "model_prefix = tc.export_dir + \"weights/\" + model_name\n",
    "model_arch_path = '%s-symbol.json' % model_prefix\n",
    "model_params_path = '%s-%04d.params' % (model_prefix, k_steps_best)\n",
    "model_tar_path = '%s-%04d.tar' % (model_prefix, k_steps_best)\n",
    "\n",
    "if not os.path.exists(tc.export_dir + \"best-model\"):\n",
    "    os.mkdir(tc.export_dir + \"best-model\")\n",
    "    \n",
    "best_model_prefix = tc.export_dir + \"best-model/\" + model_name\n",
    "best_model_arch_path = '%s-symbol.json' % best_model_prefix\n",
    "best_model_params_path = '%s-%04d.params' % (best_model_prefix, k_steps_best)\n",
    "best_model_tar_path = '%s-%04d.tar' % (best_model_prefix, k_steps_best)\n",
    "\n",
    "if tc.framework == 'mxnet' or tc.framework == 'gluon':\n",
    "    shutil.copy(model_arch_path, best_model_arch_path)\n",
    "    shutil.copy(model_params_path, best_model_params_path)\n",
    "elif tc.framework == 'pytorch':\n",
    "    shutil.copy(model_tar_path, best_model_tar_path)"
   ]
  },
  {
   "cell_type": "markdown",
   "metadata": {},
   "source": [
    "## Load the best model once again"
   ]
  },
  {
   "cell_type": "code",
   "execution_count": null,
   "metadata": {
    "scrolled": true
   },
   "outputs": [],
   "source": [
    "# delete the current net object form memory\n",
    "if tc.framework == 'mxnet':\n",
    "    del model\n",
    "elif tc.framework == 'gluon':\n",
    "    del net"
   ]
  },
  {
   "cell_type": "code",
   "execution_count": null,
   "metadata": {
    "scrolled": false
   },
   "outputs": [],
   "source": [
    "print('load current best model:', model_params_path)\n",
    "\n",
    "if tc.framework == 'mxnet' or tc.framework == 'gluon':\n",
    "    symbol = mx.sym.load(model_arch_path)\n",
    "    inputs = mx.sym.var('data', dtype='float32')\n",
    "    value_out = symbol.get_internals()[main_config['value_output']+'_output']\n",
    "    policy_out = symbol.get_internals()[main_config['policy_output']+'_output']\n",
    "    if tc.use_wdl and tc.use_plys_to_end:\n",
    "        auxiliary_out = symbol.get_internals()[main_config['auxiliary_output']+'_output']\n",
    "        wdl_out = symbol.get_internals()[main_config['wdl_output']+'_output']\n",
    "        ply_to_end_out = symbol.get_internals()[main_config['plys_to_end_output']+'_output']\n",
    "        sym = mx.symbol.Group([value_out, policy_out, auxiliary_out, wdl_out, ply_to_end_out])\n",
    "    else:\n",
    "        sym = mx.symbol.Group([value_out, policy_out])\n",
    "    net = mx.gluon.SymbolBlock(sym, inputs)\n",
    "    net.collect_params().load(model_params_path, ctx)\n",
    "elif tc.framework == 'pytorch':\n",
    "    load_torch_state(model, torch.optim.SGD(model.parameters(), lr=tc.max_lr), model_tar_path, tc.device_id)"
   ]
  },
  {
   "cell_type": "code",
   "execution_count": null,
   "metadata": {
    "scrolled": true
   },
   "outputs": [],
   "source": [
    "print('best val_loss: %.5f with v_policy_acc: %.5f at k_steps_best %d' % (val_loss_best, val_p_acc_best, k_steps_best))"
   ]
  },
  {
   "cell_type": "markdown",
   "metadata": {},
   "source": [
    "## Convert to onnx"
   ]
  },
  {
   "cell_type": "code",
   "execution_count": null,
   "metadata": {
    "scrolled": false
   },
   "outputs": [],
   "source": [
    "if tc.use_wdl and tc.use_plys_to_end:\n",
    "    outputs = [main_config['value_output']+'_output', main_config['policy_output']+'_output',\n",
    "               main_config['auxiliary_output']+'_output',\n",
    "               main_config['wdl_output']+'_output', main_config['plys_to_end_output']+'_output']\n",
    "else:\n",
    "    outputs = [main_config['value_output']+'_output', main_config['policy_output']+'_output',]\n",
    "\n",
    "if tc.framework == 'mxnet':\n",
    "    convert_mxnet_model_to_onnx(best_model_arch_path, best_model_params_path, \n",
    "                                outputs, \n",
    "                                tuple(input_shape), tuple([1, 8, 16, 64]), True)\n",
    "elif tc.framework == 'pytorch':\n",
    "    model_prefix = \"%s-%04d\" % (model_name, k_steps_best)\n",
    "    with torch.no_grad():\n",
    "        ctx = get_context(tc.context, tc.device_id)\n",
    "        dummy_input = torch.zeros(1, input_shape[0], input_shape[1], input_shape[2]).to(ctx)\n",
    "        export_to_onnx(model, 1,\n",
    "                       dummy_input,\n",
    "                       Path(tc.export_dir) / Path(\"best-model\"), model_prefix, tc.use_wdl and tc.use_plys_to_end,\n",
    "                       True)"
   ]
  },
  {
   "cell_type": "code",
   "execution_count": null,
   "metadata": {
    "scrolled": true
   },
   "outputs": [],
   "source": [
    "print(\"Saved json, weight & onnx files of the best model to %s\" % (tc.export_dir + \"best-model\"))"
   ]
  },
  {
   "cell_type": "markdown",
   "metadata": {},
   "source": [
    "## Show move predictions"
   ]
  },
  {
   "cell_type": "code",
   "execution_count": null,
   "metadata": {
    "scrolled": true
   },
   "outputs": [],
   "source": [
    "idx = 0"
   ]
  },
  {
   "cell_type": "code",
   "execution_count": null,
   "metadata": {
    "scrolled": false
   },
   "outputs": [],
   "source": [
    "if mode == MODE_CHESS:\n",
    "    start_board = chess.Board()\n",
    "elif mode == MODE_CRAZYHOUSE:\n",
    "    start_board = chess.variant.CrazyhouseBoard()\n",
    "else:\n",
    "    start_board = planes_to_board(x_val[idx], normalized_input=tc.normalize, mode=mode)\n",
    "board = start_board\n",
    "print(chess.COLOR_NAMES[board.turn])\n",
    "if board.uci_variant == \"crazyhouse\":\n",
    "    print(board.pockets)\n",
    "board"
   ]
  },
  {
   "cell_type": "code",
   "execution_count": null,
   "metadata": {
    "scrolled": true
   },
   "outputs": [],
   "source": [
    "def predict_single(net, x, select_policy_from_plane=False):\n",
    "    \n",
    "    out = [None, None]\n",
    "    if tc.framework == 'mxnet' or tc.framework == 'gluon':\n",
    "        pred = net(mx.nd.array(np.expand_dims(x, axis=0), ctx=ctx))\n",
    "        out[0] = pred[0].asnumpy()\n",
    "        out[1] = pred[1].softmax().asnumpy()\n",
    "    elif tc.framework == 'pytorch':\n",
    "        with torch.no_grad():\n",
    "            pred = net(torch.Tensor(np.expand_dims(x, axis=0)).to(ctx))\n",
    "            out[0] = pred[0].to(torch.device(\"cpu\")).numpy()\n",
    "            out[1] = pred[1].to(torch.device(\"cpu\")).softmax(dim=1).numpy()\n",
    "    if select_policy_from_plane:\n",
    "        out[1] = out[1][:, FLAT_PLANE_IDX]\n",
    "    \n",
    "    return out"
   ]
  },
  {
   "cell_type": "code",
   "execution_count": null,
   "metadata": {},
   "outputs": [],
   "source": [
    "if tc.framework == 'pytorch':\n",
    "    net = model\n",
    "    net.eval()"
   ]
  },
  {
   "cell_type": "code",
   "execution_count": null,
   "metadata": {},
   "outputs": [],
   "source": [
    "x_start_pos = board_to_planes(board, normalize=tc.normalize, mode=mode)\n",
    "pred = predict_single(net, x_start_pos, tc.select_policy_from_plane)\n",
    "pred"
   ]
  },
  {
   "cell_type": "code",
   "execution_count": null,
   "metadata": {
    "scrolled": true
   },
   "outputs": [],
   "source": [
    "policy_to_best_move(board, yp_val[idx])"
   ]
  },
  {
   "cell_type": "code",
   "execution_count": null,
   "metadata": {
    "scrolled": true
   },
   "outputs": [],
   "source": [
    "opts = 5\n",
    "selected_moves, probs = policy_to_moves(board, pred[1][0])\n",
    "selected_moves[:opts]"
   ]
  },
  {
   "cell_type": "code",
   "execution_count": null,
   "metadata": {
    "scrolled": false
   },
   "outputs": [],
   "source": [
    "plt.barh(range(opts)[::-1], probs[:opts])\n",
    "ax = plt.gca()\n",
    "ax.set_yticks(range(opts)[::-1])\n",
    "ax.set_yticklabels(selected_moves[:opts])"
   ]
  },
  {
   "cell_type": "code",
   "execution_count": null,
   "metadata": {
    "scrolled": false
   },
   "outputs": [],
   "source": [
    "board = start_board\n",
    "board.push_uci('e2e4')\n",
    "board.push_uci('e7e5')\n",
    "board.push_uci('f1c4')\n",
    "board.push_uci('b8c6')\n",
    "board.push_uci('d1h5')\n",
    "x_scholar_atck = board_to_planes(board, normalize=tc.normalize, mode=mode)\n",
    "board"
   ]
  },
  {
   "cell_type": "code",
   "execution_count": null,
   "metadata": {
    "scrolled": true
   },
   "outputs": [],
   "source": [
    "pred = predict_single(net, x_scholar_atck, tc.select_policy_from_plane)\n",
    "\n",
    "selected_moves, probs = policy_to_moves(board, pred[1][0])\n",
    "plt.barh(range(opts)[::-1], probs[:opts])\n",
    "ax = plt.gca()\n",
    "ax.set_yticks(range(opts)[::-1])\n",
    "ax.set_yticklabels(selected_moves[:opts])"
   ]
  },
  {
   "cell_type": "code",
   "execution_count": null,
   "metadata": {
    "scrolled": false
   },
   "outputs": [],
   "source": [
    "board.push(selected_moves[0])\n",
    "board"
   ]
  },
  {
   "cell_type": "markdown",
   "metadata": {},
   "source": [
    "### Performance on test dataset\n"
   ]
  },
  {
   "cell_type": "code",
   "execution_count": null,
   "metadata": {
    "scrolled": true
   },
   "outputs": [],
   "source": [
    "s_idcs_test, x_test, yv_test, yp_test, yplys_test, pgn_datasets_test = load_pgn_dataset(dataset_type='test', part_id=0,\n",
    "                                                                               verbose=True, normalize=True)\n",
    "test_data = get_data_loader(x_test, yv_test, yp_test, yplys_test, tc, shuffle=False)"
   ]
  },
  {
   "cell_type": "code",
   "execution_count": null,
   "metadata": {
    "scrolled": true
   },
   "outputs": [],
   "source": [
    "if tc.framework == 'mxnet':\n",
    "    metrics = metrics_gluon\n",
    "\n",
    "evaluate_metrics(to.metrics, test_data, net, nb_batches=None, sparse_policy_label=tc.sparse_policy_label, ctx=ctx,\n",
    "                 apply_select_policy_from_plane=tc.select_policy_from_plane, use_wdl=tc.use_wdl,\n",
    "                 use_plys_to_end=tc.use_plys_to_end)"
   ]
  },
  {
   "cell_type": "markdown",
   "metadata": {},
   "source": [
    "### Show result on mate-in-one problems"
   ]
  },
  {
   "cell_type": "code",
   "execution_count": null,
   "metadata": {
    "scrolled": true
   },
   "outputs": [],
   "source": [
    "s_idcs_mate, x_mate, yv_mate, yp_mate, yplys_mate, pgn_dataset_mate = load_pgn_dataset(dataset_type='mate_in_one', part_id=0,\n",
    "                                                                              verbose=True, normalize=tc.normalize)\n",
    "yplys_mate = np.ones(len(yv_mate))\n",
    "mate_data = get_data_loader(x_mate, yv_mate, yp_mate, yplys_mate, tc, shuffle=False)"
   ]
  },
  {
   "cell_type": "markdown",
   "metadata": {},
   "source": [
    "### Mate In One Performance"
   ]
  },
  {
   "cell_type": "code",
   "execution_count": null,
   "metadata": {
    "scrolled": true
   },
   "outputs": [],
   "source": [
    "evaluate_metrics(to.metrics, mate_data, net, nb_batches=None, sparse_policy_label=tc.sparse_policy_label, ctx=ctx,\n",
    "                 apply_select_policy_from_plane=tc.select_policy_from_plane, use_wdl=tc.use_wdl,\n",
    "                 use_plys_to_end=tc.use_plys_to_end)"
   ]
  },
  {
   "cell_type": "markdown",
   "metadata": {},
   "source": [
    "### Show some example mate problems"
   ]
  },
  {
   "cell_type": "code",
   "execution_count": null,
   "metadata": {
    "scrolled": true
   },
   "outputs": [],
   "source": [
    "from IPython.core.interactiveshell import InteractiveShell\n",
    "InteractiveShell.ast_node_interactivity = \"all\""
   ]
  },
  {
   "cell_type": "markdown",
   "metadata": {},
   "source": [
    "### Evaluate Performance"
   ]
  },
  {
   "cell_type": "code",
   "execution_count": null,
   "metadata": {
    "scrolled": true
   },
   "outputs": [],
   "source": [
    "def eval_pos(net, x_mate, yp_mate, verbose=False, select_policy_from_plane=False):\n",
    "    \n",
    "    board = planes_to_board(x_mate, normalized_input=tc.normalize, mode=mode)\n",
    "    if verbose is True:\n",
    "        print(\"{0}'s turn\".format(chess.COLOR_NAMES[board.turn]))\n",
    "        if board.uci_variant == \"crazyhouse\":\n",
    "            print(\"black/white {0}\".format(board.pockets))\n",
    "    pred = predict_single(net, x_mate, select_policy_from_plane=select_policy_from_plane)\n",
    "    \n",
    "    true_move = policy_to_move(yp_mate, mirror_policy=board.turn==chess.BLACK)\n",
    "    \n",
    "    opts = 5\n",
    "    pred_moves, probs = policy_to_moves(board, pred[1][0])\n",
    "    pred_moves = pred_moves[:opts]\n",
    "    \n",
    "    legal_move_cnt = board.legal_moves.count()\n",
    "    mate_move_cnt = str(board.legal_moves).count('#')\n",
    "    \n",
    "    is_mate_5_top = False\n",
    "    \n",
    "    for pred_move in pred_moves:\n",
    "        board_5_top = deepcopy(board)\n",
    "        board_5_top.push(pred_move)\n",
    "        if board_5_top.is_checkmate() is True:\n",
    "            is_mate_5_top = True\n",
    "            break\n",
    "    \n",
    "    board.push(pred_moves[0])\n",
    "    \n",
    "    is_checkmate = False\n",
    "    if board.is_checkmate() is True:\n",
    "        is_checkmate = True\n",
    "        \n",
    "    filtered_pred = sorted(pred[1][0], reverse=True)\n",
    "    \n",
    "    if verbose is True:\n",
    "        plt.barh(range(opts)[::-1], filtered_pred[:opts])\n",
    "        ax = plt.gca()\n",
    "        ax.set_yticks(range(opts)[::-1])\n",
    "        ax.set_yticklabels(pred_moves)\n",
    "        plt.title('True Move:' + str(true_move) +\n",
    "                 '\\nEval:' + str(pred[0][0]))\n",
    "        plt.show()\n",
    "    \n",
    "    return pred, pred_moves, true_move, board, is_checkmate, is_mate_5_top, legal_move_cnt, mate_move_cnt"
   ]
  },
  {
   "cell_type": "code",
   "execution_count": null,
   "metadata": {
    "scrolled": true
   },
   "outputs": [],
   "source": [
    "nb_pos = len(x_mate)\n",
    "mates_found = []\n",
    "mates_5_top_found = []\n",
    "legal_mv_cnts = []\n",
    "mate_mv_cnts = []\n",
    "\n",
    "for i in range(nb_pos):\n",
    "    pred, pred_moves, true_move, board, is_mate, is_mate_5_top, legal_mv_cnt, mate_mv_cnt= eval_pos(net, x_mate[i], yp_mate[i], select_policy_from_plane=tc.select_policy_from_plane)\n",
    "    mates_found.append(is_mate)\n",
    "    legal_mv_cnts.append(legal_mv_cnt)\n",
    "    mate_mv_cnts.append(mate_mv_cnt)\n",
    "    mates_5_top_found.append(is_mate_5_top)"
   ]
  },
  {
   "cell_type": "code",
   "execution_count": null,
   "metadata": {
    "scrolled": true
   },
   "outputs": [],
   "source": [
    "np.array(mate_mv_cnts).mean()"
   ]
  },
  {
   "cell_type": "code",
   "execution_count": null,
   "metadata": {
    "scrolled": true
   },
   "outputs": [],
   "source": [
    "np.array(legal_mv_cnts).mean()"
   ]
  },
  {
   "cell_type": "markdown",
   "metadata": {},
   "source": [
    "### Random Guessing Baseline"
   ]
  },
  {
   "cell_type": "code",
   "execution_count": null,
   "metadata": {
    "scrolled": true
   },
   "outputs": [],
   "source": [
    "np.array(mate_mv_cnts).mean() / np.array(legal_mv_cnts).mean()"
   ]
  },
  {
   "cell_type": "markdown",
   "metadata": {},
   "source": [
    "### Prediciton Performance"
   ]
  },
  {
   "cell_type": "code",
   "execution_count": null,
   "metadata": {
    "scrolled": true
   },
   "outputs": [],
   "source": [
    "print('mate_in_one_acc:', sum(mates_found) / nb_pos)"
   ]
  },
  {
   "cell_type": "code",
   "execution_count": null,
   "metadata": {
    "scrolled": true
   },
   "outputs": [],
   "source": [
    "sum(mates_5_top_found) / nb_pos"
   ]
  },
  {
   "cell_type": "code",
   "execution_count": null,
   "metadata": {
    "scrolled": true
   },
   "outputs": [],
   "source": [
    "pgn_dataset_mate.tree()"
   ]
  },
  {
   "cell_type": "code",
   "execution_count": null,
   "metadata": {
    "scrolled": true
   },
   "outputs": [],
   "source": [
    "metadata = np.array(pgn_dataset_mate['metadata'])\n",
    "metadata[0, :]\n",
    "metadata[1, :]"
   ]
  },
  {
   "cell_type": "code",
   "execution_count": null,
   "metadata": {
    "scrolled": true
   },
   "outputs": [],
   "source": [
    "site_mate = metadata[1:, 1]"
   ]
  },
  {
   "cell_type": "code",
   "execution_count": null,
   "metadata": {
    "scrolled": true
   },
   "outputs": [],
   "source": [
    "def clean_string(np_string):\n",
    "    string = str(site_mate[i]).replace(\"b'\", \"\")\n",
    "    string = string.replace(\"'\", \"\")\n",
    "    string = string.replace('\"', '')\n",
    "    \n",
    "    return string"
   ]
  },
  {
   "cell_type": "code",
   "execution_count": null,
   "metadata": {
    "scrolled": true
   },
   "outputs": [],
   "source": [
    "import chess.svg\n",
    "from IPython.display import SVG, HTML"
   ]
  },
  {
   "cell_type": "markdown",
   "metadata": {},
   "source": [
    "## Show the result of the first 17 examples"
   ]
  },
  {
   "cell_type": "code",
   "execution_count": null,
   "metadata": {
    "scrolled": false
   },
   "outputs": [],
   "source": [
    "for i in range(17):\n",
    "    print(clean_string(site_mate[i]))\n",
    "    pred, pred_moves, true_move, board, is_checkmate, is_mate_5_top, legal_move_cnt, mate_move_cnt = eval_pos(net, x_mate[i], yp_mate[i], verbose=True, select_policy_from_plane=tc.select_policy_from_plane)\n",
    "    pred_move = pred_moves[0]\n",
    "    pred_arrow = chess.svg.Arrow(pred_move.from_square, pred_move.to_square)\n",
    "    SVG(data=chess.svg.board(board=board, arrows=[pred_arrow], size=400))"
   ]
  },
  {
   "cell_type": "markdown",
   "metadata": {},
   "source": [
    "## Show examples where it failed"
   ]
  },
  {
   "cell_type": "code",
   "execution_count": null,
   "metadata": {
    "scrolled": false
   },
   "outputs": [],
   "source": [
    "mate_missed = 0\n",
    "for i in range(1000):\n",
    "    pred, pred_moves, true_move, board, is_checkmate, is_mate_5_top, legal_move_cnt, mate_move_cnt = eval_pos(net, x_mate[i], yp_mate[i], verbose=False, select_policy_from_plane=tc.select_policy_from_plane)\n",
    "    if is_mate_5_top is False:\n",
    "        mate_missed += 1\n",
    "        print(clean_string(site_mate[i]))\n",
    "        pred, pred_moves, true_move, board, is_checkmate, is_mate_5_top, legal_move_cnt, mate_move_cnt = eval_pos(net, x_mate[i], yp_mate[i], verbose=True, select_policy_from_plane=tc.select_policy_from_plane)\n",
    "        pred_move = pred_moves[0]\n",
    "        pred_arrow = chess.svg.Arrow(pred_move.from_square, pred_move.to_square)\n",
    "        SVG(data=chess.svg.board(board=board, arrows=[pred_arrow], size=400))\n",
    "    if mate_missed == 15:\n",
    "        break"
   ]
  },
  {
   "cell_type": "code",
   "execution_count": null,
   "metadata": {
    "scrolled": true
   },
   "outputs": [],
   "source": []
  }
 ],
 "metadata": {
  "kernelspec": {
   "display_name": "Python 3 (ipykernel)",
   "language": "python",
   "name": "python3"
  },
  "language_info": {
   "codemirror_mode": {
    "name": "ipython",
    "version": 3
   },
   "file_extension": ".py",
   "mimetype": "text/x-python",
   "name": "python",
   "nbconvert_exporter": "python",
   "pygments_lexer": "ipython3",
   "version": "3.8.16"
  },
  "pycharm": {
   "stem_cell": {
    "cell_type": "raw",
    "metadata": {
     "collapsed": false
    },
    "source": []
   }
  }
 },
 "nbformat": 4,
 "nbformat_minor": 2
}
